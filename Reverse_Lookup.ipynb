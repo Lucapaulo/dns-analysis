{
 "cells": [
  {
   "cell_type": "code",
   "execution_count": 45,
   "id": "0480921d",
   "metadata": {},
   "outputs": [],
   "source": [
    "import socket\n",
    "import dns.reversename\n",
    "import dns.resolver\n",
    "import multiprocessing\n",
    "import pandas as pd\n",
    "from reverse import convertToLookup\n",
    "import tldextract"
   ]
  },
  {
   "cell_type": "code",
   "execution_count": 22,
   "id": "a236adb4",
   "metadata": {},
   "outputs": [],
   "source": [
    "with open(\"ips.txt\", \"r\") as f:\n",
    "    ips = [x.strip() for x in f.readlines()]"
   ]
  },
  {
   "cell_type": "code",
   "execution_count": 38,
   "id": "4d28fd4e",
   "metadata": {},
   "outputs": [],
   "source": [
    "domains = []\n",
    "with multiprocessing.Pool() as pool:\n",
    "    domains = pool.map(convertToLookup, ips)\n",
    "domains = list(filter(lambda x: x != None, domains))"
   ]
  },
  {
   "cell_type": "code",
   "execution_count": 44,
   "id": "4ef0231d",
   "metadata": {},
   "outputs": [],
   "source": [
    "df = pd.DataFrame.from_records(domains)"
   ]
  },
  {
   "cell_type": "code",
   "execution_count": 54,
   "id": "b51cdd08",
   "metadata": {},
   "outputs": [
    {
     "data": {
      "text/html": [
       "<div>\n",
       "<style scoped>\n",
       "    .dataframe tbody tr th:only-of-type {\n",
       "        vertical-align: middle;\n",
       "    }\n",
       "\n",
       "    .dataframe tbody tr th {\n",
       "        vertical-align: top;\n",
       "    }\n",
       "\n",
       "    .dataframe thead th {\n",
       "        text-align: right;\n",
       "    }\n",
       "</style>\n",
       "<table border=\"1\" class=\"dataframe\">\n",
       "  <thead>\n",
       "    <tr style=\"text-align: right;\">\n",
       "      <th></th>\n",
       "      <th>size</th>\n",
       "    </tr>\n",
       "    <tr>\n",
       "      <th>domain</th>\n",
       "      <th></th>\n",
       "    </tr>\n",
       "  </thead>\n",
       "  <tbody>\n",
       "    <tr>\n",
       "      <th>nextdns.io</th>\n",
       "      <td>136</td>\n",
       "    </tr>\n",
       "    <tr>\n",
       "      <th>googleusercontent.com</th>\n",
       "      <td>22</td>\n",
       "    </tr>\n",
       "    <tr>\n",
       "      <th>colocrossing.com</th>\n",
       "      <td>18</td>\n",
       "    </tr>\n",
       "    <tr>\n",
       "      <th>vultr.com</th>\n",
       "      <td>18</td>\n",
       "    </tr>\n",
       "    <tr>\n",
       "      <th>16clouds.com</th>\n",
       "      <td>15</td>\n",
       "    </tr>\n",
       "    <tr>\n",
       "      <th>hinet.net</th>\n",
       "      <td>14</td>\n",
       "    </tr>\n",
       "    <tr>\n",
       "      <th>amazonaws.com</th>\n",
       "      <td>13</td>\n",
       "    </tr>\n",
       "    <tr>\n",
       "      <th>adguard.com</th>\n",
       "      <td>12</td>\n",
       "    </tr>\n",
       "    <tr>\n",
       "      <th>hwclouds-dns.com</th>\n",
       "      <td>9</td>\n",
       "    </tr>\n",
       "    <tr>\n",
       "      <th>linode.com</th>\n",
       "      <td>7</td>\n",
       "    </tr>\n",
       "    <tr>\n",
       "      <th>ovh.ca</th>\n",
       "      <td>6</td>\n",
       "    </tr>\n",
       "    <tr>\n",
       "      <th>ovh.net</th>\n",
       "      <td>6</td>\n",
       "    </tr>\n",
       "    <tr>\n",
       "      <th>your-server.de</th>\n",
       "      <td>6</td>\n",
       "    </tr>\n",
       "    <tr>\n",
       "      <th>comss.one</th>\n",
       "      <td>5</td>\n",
       "    </tr>\n",
       "    <tr>\n",
       "      <th>example.com</th>\n",
       "      <td>4</td>\n",
       "    </tr>\n",
       "  </tbody>\n",
       "</table>\n",
       "</div>"
      ],
      "text/plain": [
       "                       size\n",
       "domain                     \n",
       "nextdns.io              136\n",
       "googleusercontent.com    22\n",
       "colocrossing.com         18\n",
       "vultr.com                18\n",
       "16clouds.com             15\n",
       "hinet.net                14\n",
       "amazonaws.com            13\n",
       "adguard.com              12\n",
       "hwclouds-dns.com          9\n",
       "linode.com                7\n",
       "ovh.ca                    6\n",
       "ovh.net                   6\n",
       "your-server.de            6\n",
       "comss.one                 5\n",
       "example.com               4"
      ]
     },
     "execution_count": 54,
     "metadata": {},
     "output_type": "execute_result"
    }
   ],
   "source": [
    "df_domain = df.copy()\n",
    "df_domain[\"domain\"] = df_domain[\"domain\"].apply(lambda domain: tldextract.extract(domain).registered_domain)\n",
    "df_domain.groupby(\"domain\", as_index = False).size().nlargest(15, columns = [\"size\"]).set_index(\"domain\")"
   ]
  }
 ],
 "metadata": {
  "kernelspec": {
   "display_name": "Python 3",
   "language": "python",
   "name": "python3"
  },
  "language_info": {
   "codemirror_mode": {
    "name": "ipython",
    "version": 3
   },
   "file_extension": ".py",
   "mimetype": "text/x-python",
   "name": "python",
   "nbconvert_exporter": "python",
   "pygments_lexer": "ipython3",
   "version": "3.8.5"
  }
 },
 "nbformat": 4,
 "nbformat_minor": 5
}
