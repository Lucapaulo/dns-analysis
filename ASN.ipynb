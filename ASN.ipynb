{
 "cells": [
  {
   "cell_type": "code",
   "execution_count": 4,
   "metadata": {},
   "outputs": [],
   "source": [
    "import pyasn\n",
    "import sqlite3 as sq\n",
    "import collections"
   ]
  },
  {
   "cell_type": "code",
   "execution_count": 5,
   "metadata": {},
   "outputs": [],
   "source": [
    "asndb = pyasn.pyasn('09-06-2021.dat')\n",
    "connection = sq.connect(\"./measurements.db\")\n",
    "connection.row_factory = sq.Row"
   ]
  },
  {
   "cell_type": "code",
   "execution_count": 6,
   "metadata": {},
   "outputs": [],
   "source": [
    "def quicIPs():\n",
    "    sql = \"\"\"\n",
    "    SELECT DISTINCT ip FROM dns_measurements WHERE protocol = 'quic' AND r_code IS NOT NULL\n",
    "    \"\"\"\n",
    "    cursor = connection.cursor()\n",
    "    cursor.execute(sql)\n",
    "    items = list(cursor.fetchall())\n",
    "    cursor.close()\n",
    "    return items"
   ]
  },
  {
   "cell_type": "code",
   "execution_count": 8,
   "metadata": {},
   "outputs": [
    {
     "name": "stdout",
     "output_type": "stream",
     "text": [
      "478\n",
      "[(37963, 28), (42473, 24), (31898, 22), (16276, 21), (20473, 19), (45090, 16), (14061, 15), (132203, 12), (25820, 11), (15169, 11)]\n"
     ]
    }
   ],
   "source": [
    "asnToIP = collections.Counter()\n",
    "for row in quicIPs():\n",
    "    asn = asndb.lookup(row[\"ip\"])[0]\n",
    "    asnToIP[asn] += 1\n",
    "print(len(quicIPs()))\n",
    "print(asnToIP.most_common(10))"
   ]
  }
 ],
 "metadata": {
  "kernelspec": {
   "display_name": "Python 3",
   "language": "python",
   "name": "python3"
  },
  "language_info": {
   "codemirror_mode": {
    "name": "ipython",
    "version": 3
   },
   "file_extension": ".py",
   "mimetype": "text/x-python",
   "name": "python",
   "nbconvert_exporter": "python",
   "pygments_lexer": "ipython3",
   "version": "3.8.5"
  }
 },
 "nbformat": 4,
 "nbformat_minor": 4
}
