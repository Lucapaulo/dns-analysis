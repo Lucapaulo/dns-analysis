{
 "cells": [
  {
   "cell_type": "markdown",
   "metadata": {},
   "source": [
    "**Updated**: 08.08.2021"
   ]
  },
  {
   "cell_type": "code",
   "execution_count": 1,
   "metadata": {},
   "outputs": [],
   "source": [
    "import numpy as np\n",
    "import sqlite3 as sq\n",
    "import matplotlib.pyplot as plt\n",
    "import pandas as pd\n",
    "pd.options.mode.chained_assignment = None  # default='warn'\n",
    "import json\n",
    "import matplotlib.text as mtext\n",
    "\n",
    "from colors import Colors\n",
    "\n",
    "%matplotlib inline"
   ]
  },
  {
   "cell_type": "code",
   "execution_count": 2,
   "metadata": {},
   "outputs": [],
   "source": [
    "connection = sq.connect(\"./performance-measurements/merged.db\")\n",
    "connection.row_factory = sq.Row"
   ]
  },
  {
   "cell_type": "code",
   "execution_count": 3,
   "metadata": {},
   "outputs": [],
   "source": [
    "def average(items, key):\n",
    "    total = 0\n",
    "    for item in items:\n",
    "        try:\n",
    "            total += item[key]\n",
    "        except:\n",
    "            pass\n",
    "    return total/len(items)\n",
    "\n",
    "def getTraceroutesForProtocol(protocol):\n",
    "    def generateStatement(protocol):\n",
    "        return \"SELECT ip FROM dns_measurements {} WHERE {}.protocol = '{}' AND {}.response_ip IS NOT NULL AND NOT {}.cache_warming\".format(protocol, protocol, protocol, protocol, protocol)\n",
    "    statements = {\n",
    "        \"udp\": generateStatement(\"udp\"),\n",
    "        \"tcp\": generateStatement(\"tcp\"),\n",
    "        \"tls\": generateStatement(\"tls\"),\n",
    "        \"https\": generateStatement(\"https\"),\n",
    "        \"quic\": generateStatement(\"quic\")\n",
    "    }\n",
    "    del statements[protocol]\n",
    "    sql = \"\"\"\n",
    "    SELECT * from traceroutes WHERE (dns_measurement_id, hop_ip, dest_port, protocol) IN (SELECT id, ip, port, protocol FROM dns_measurements measurement\n",
    "    WHERE measurement.protocol = '{}' AND measurement.r_code IS NOT NULL AND measurement.total_time IS NOT NULL AND measurement.total_time <= 5000000000\n",
    "      AND NOT measurement.cache_warming\n",
    "      AND measurement.ip IN ({})\n",
    "      AND measurement.ip IN ({})\n",
    "      AND measurement.ip IN ({})\n",
    "      AND measurement.ip IN ({}));\n",
    "    \"\"\".format(protocol, *statements.values())\n",
    "    df = pd.read_sql_query(sql, connection)\n",
    "    return df\n",
    "\n",
    "def getTraceroutesForProtocolPairwise(protocol):\n",
    "    def generateStatement(protocol):\n",
    "        return \"SELECT ip FROM dns_measurements {} WHERE {}.protocol = '{}' AND {}.response_ip IS NOT NULL AND NOT {}.cache_warming\".format(protocol, protocol, protocol, protocol, protocol)\n",
    "    statements = {\n",
    "        \"udp\": generateStatement(\"udp\"),\n",
    "        \"tcp\": generateStatement(\"tcp\"),\n",
    "        \"tls\": generateStatement(\"tls\"),\n",
    "        \"https\": generateStatement(\"https\"),\n",
    "        \"quic\": generateStatement(\"quic\")\n",
    "    }\n",
    "    del statements[protocol]\n",
    "    sql = \"\"\"\n",
    "    SELECT * from traceroutes WHERE (dns_measurement_id, hop_ip, dest_port, protocol) IN (SELECT id, ip, port, protocol FROM dns_measurements measurement\n",
    "    WHERE measurement.protocol = '{}' AND measurement.r_code IS NOT NULL AND measurement.total_time IS NOT NULL AND measurement.total_time <= 5000000000\n",
    "      AND NOT measurement.cache_warming\n",
    "      AND measurement.ip IN ({})\n",
    "      AND measurement.ip IN ({})\n",
    "      AND measurement.ip IN ({})\n",
    "      AND measurement.ip IN ({})) \n",
    "      AND hop_ip IN (SELECT DISTINCT(hop_ip) FROM traceroutes WHERE protocol = 'udp' AND hop_ip = dest_ip)\n",
    "      AND hop_ip IN (SELECT DISTINCT(hop_ip) FROM traceroutes WHERE protocol = 'quic' AND hop_ip = dest_ip)\n",
    "      AND hop_ip IN (SELECT DISTINCT(hop_ip) FROM traceroutes WHERE protocol = 'tcp' AND hop_ip = dest_ip)\n",
    "      AND hop_ip IN (SELECT DISTINCT(hop_ip) FROM traceroutes WHERE protocol = 'tls' AND hop_ip = dest_ip)\n",
    "      AND hop_ip IN (SELECT DISTINCT(hop_ip) FROM traceroutes WHERE protocol = 'https' AND hop_ip = dest_ip);\n",
    "    \"\"\".format(protocol, *statements.values())\n",
    "    df = pd.read_sql_query(sql, connection)\n",
    "    return df\n",
    "\n",
    "def getMeanTraceroutesPairwise():\n",
    "    udp = getTraceroutesForProtocolPairwise(\"udp\")[\"rtt\"].div(1000000)\n",
    "    tcp = getTraceroutesForProtocolPairwise(\"tcp\")[\"rtt\"].div(1000000)\n",
    "    tls = getTraceroutesForProtocolPairwise(\"tls\")[\"rtt\"].div(1000000)\n",
    "    https = getTraceroutesForProtocolPairwise(\"https\")[\"rtt\"].div(1000000)\n",
    "    quic = getTraceroutesForProtocolPairwise(\"quic\")[\"rtt\"].div(1000000)\n",
    "    \n",
    "    fig = plt.figure(figsize = (10, 7))\n",
    "    ax = fig.add_subplot(111)\n",
    "    bp = ax.boxplot([udp.values.tolist(), tcp.values.tolist(), tls.values.tolist(), https.values.tolist(), quic.values.tolist()], vert = 0, showfliers = False)\n",
    "\n",
    "    ax.set_yticklabels([\"UDP\", \"TCP\", \"TLS\", \"HTTPS\", \"QUIC\"])\n",
    "\n",
    "    ax.set_xlabel(\"ms\", fontsize = 12)\n",
    "    ax.set_ylabel(\"Protocol\", fontsize = 12)\n",
    "    plt.title(\"RTT for Hosts with all Protocols Reachable\")\n",
    "\n",
    "    plt.show(bp)\n",
    "    \n",
    "    df = pd.DataFrame({ \n",
    "        \"Protocol\": [\"UDP\", \"TCP\", \"TLS\", \"HTTPS\", \"QUIC\"],\n",
    "        \"Samples\": [len(udp), len(tcp), len(tls), len(https), len(quic)]\n",
    "    })\n",
    "    print(df.to_markdown())\n",
    "    \n",
    "def getMeanTraceroutes():\n",
    "    udp_df = getTraceroutesForProtocolPairwise(\"udp\")\n",
    "    udp_df[\"rtt\"] = udp_df[\"rtt\"].div(1000000)\n",
    "    tcp_df = getTraceroutesForProtocolPairwise(\"tcp\")\n",
    "    tcp_df[\"rtt\"] = tcp_df[\"rtt\"].div(1000000)\n",
    "    tls_df = getTraceroutesForProtocolPairwise(\"tls\")\n",
    "    tls_df[\"rtt\"] = tls_df[\"rtt\"].div(1000000)\n",
    "    https_df = getTraceroutesForProtocolPairwise(\"https\")\n",
    "    https_df[\"rtt\"] = https_df[\"rtt\"].div(1000000)\n",
    "    quic_df = getTraceroutesForProtocolPairwise(\"quic\")\n",
    "    quic_df[\"rtt\"] = quic_df[\"rtt\"].div(1000000)\n",
    "    \n",
    "    udp = udp_df.groupby(\"dest_ip\")[\"rtt\"].median().reset_index()[\"rtt\"]\n",
    "    tcp = tcp_df.groupby(\"dest_ip\")[\"rtt\"].median().reset_index()[\"rtt\"]\n",
    "    tls = tls_df.groupby(\"dest_ip\")[\"rtt\"].median().reset_index()[\"rtt\"]\n",
    "    https = https_df.groupby(\"dest_ip\")[\"rtt\"].median().reset_index()[\"rtt\"]\n",
    "    quic = quic_df.groupby(\"dest_ip\")[\"rtt\"].median().reset_index()[\"rtt\"]\n",
    "    \n",
    "    fig = plt.figure(figsize = (10, 7))\n",
    "    ax = fig.add_subplot(111)\n",
    "    bp = ax.boxplot([udp.values.tolist(), tcp.values.tolist(), tls.values.tolist(), https.values.tolist(), quic.values.tolist()], vert = 0, sym = \"\", patch_artist=True, meanline = True, showmeans = True)\n",
    "    setBoxesWhite(bp)\n",
    "\n",
    "    for median in bp[\"medians\"]:\n",
    "        x, y = median.get_data()\n",
    "        ax.text(x[0] - 4, y[0] - 0.2, \"{:.0f}\".format(x[0]), fontsize = 9, color='black')\n",
    "\n",
    "    ax.set_yticklabels([\"UDP\", \"TCP\", \"TLS\", \"HTTPS\", \"QUIC\"])\n",
    "\n",
    "    ax.set_xlabel(\"ms\", fontsize = 12)\n",
    "    ax.set_ylabel(\"Protocol\", fontsize = 12)\n",
    "    plt.grid()\n",
    "    \n",
    "    plt.savefig(\"figures/merged_median_traceroutes_boxplot.pdf\", bbox_inches='tight')\n",
    "    plt.show(bp)\n",
    "    \n",
    "def getQUICMedianTraceroutes(cacheWarming = False, protocol = \"quic\"):\n",
    "    cacheCondition = \"AND NOT d.cache_warming\" if not cacheWarming else \"AND d.cache_warming\"\n",
    "    sql = \"\"\"\n",
    "    SELECT\n",
    "       d.id, d.ip, d.port, d.protocol, d.q_ui_c_handshake_duration as quic_handshake_duration, d.query_time, d.tcp_handshake_duration, d.tls_handshake_duration, d.total_time, d.q_ui_c_version\n",
    "    FROM dns_measurements d\n",
    "    WHERE d.protocol = '{}' {}\n",
    "    AND d.id IN (SELECT DISTINCT(t.dns_measurement_id) FROM traceroutes t where t.dest_ip = t.hop_ip AND t.protocol = '{}');\n",
    "    \"\"\".format(protocol, cacheCondition, protocol)\n",
    "    handshake_duration = pd.read_sql_query(sql, connection)\n",
    "    sql = \"\"\"\n",
    "    SELECT\n",
    "    t.dns_measurement_id as id, dest_port as port, protocol, dest_ip, hop_ip, rtt\n",
    "    FROM traceroutes t\n",
    "    WHERE t.protocol = '{}' AND t.dest_ip = t.hop_ip\n",
    "    \"\"\".format(protocol)\n",
    "    rtts = pd.read_sql_query(sql, connection).groupby(\"id\").sample(n = 1)\n",
    "    return pd.merge(handshake_duration, rtts, on = [\"id\", \"protocol\", \"port\"])\n",
    "\n",
    "def getQUICMedianResolveTime():\n",
    "    sql = \"\"\"\n",
    "    SELECT ip, query_time FROM dns_measurements measurement\n",
    "    WHERE measurement.protocol = 'quic' AND measurement.r_code IS NOT NULL AND measurement.total_time IS NOT NULL AND measurement.total_time <= 5000000000\n",
    "      AND NOT measurement.cache_warming\n",
    "      AND measurement.ip IN (SELECT ip FROM dns_measurements udp WHERE udp.protocol = 'udp' AND udp.response_ip IS NOT NULL AND NOT udp.cache_warming)\n",
    "      AND measurement.ip IN (SELECT ip FROM dns_measurements tcp WHERE tcp.protocol = 'tcp' AND tcp.response_ip IS NOT NULL AND NOT tcp.cache_warming)\n",
    "      AND measurement.ip IN (SELECT ip FROM dns_measurements tls WHERE tls.protocol = 'tls' AND tls.response_ip IS NOT NULL AND NOT tls.cache_warming)\n",
    "      AND measurement.ip IN (SELECT ip FROM dns_measurements https WHERE https.protocol = 'https' AND https.response_ip IS NOT NULL AND NOT https.cache_warming);\n",
    "    \"\"\"\n",
    "    quic_df = pd.read_sql_query(sql, connection)\n",
    "    quic_df[\"query_time\"] = quic_df[\"query_time\"].div(1000000)\n",
    "    \n",
    "    quic = quic_df.groupby(\"ip\")[\"query_time\"].median().reset_index()\n",
    "    return quic\n",
    "\n",
    "def getUDP():\n",
    "    sql = \"\"\"\n",
    "    SELECT * FROM dns_measurements measurement\n",
    "    WHERE measurement.protocol = 'udp' AND measurement.r_code IS NOT NULL AND measurement.total_time IS NOT NULL AND measurement.total_time <= 5000000000\n",
    "      AND NOT measurement.cache_warming\n",
    "      AND measurement.ip IN (SELECT ip FROM dns_measurements tcp WHERE tcp.protocol = 'tcp' AND tcp.response_ip IS NOT NULL AND NOT tcp.cache_warming)\n",
    "      AND measurement.ip IN (SELECT ip FROM dns_measurements tls WHERE tls.protocol = 'tls' AND tls.response_ip IS NOT NULL AND NOT tls.cache_warming)\n",
    "      AND measurement.ip IN (SELECT ip FROM dns_measurements https WHERE https.protocol = 'https' AND https.response_ip IS NOT NULL AND NOT https.cache_warming)\n",
    "      AND measurement.ip IN (SELECT ip FROM dns_measurements quic WHERE quic.protocol = 'quic' AND quic.response_ip IS NOT NULL AND NOT quic.cache_warming);\n",
    "    \"\"\"\n",
    "    cursor = connection.cursor()\n",
    "    cursor.execute(sql)\n",
    "    items = list(cursor.fetchall())\n",
    "    cursor.close()\n",
    "    return items\n",
    "\n",
    "def getTCP():\n",
    "    sql = \"\"\"\n",
    "    SELECT * FROM dns_measurements measurement\n",
    "    WHERE measurement.protocol = 'tcp' AND measurement.r_code IS NOT NULL AND measurement.total_time IS NOT NULL AND measurement.total_time <= 5000000000\n",
    "      AND NOT measurement.cache_warming\n",
    "      AND measurement.ip IN (SELECT ip FROM dns_measurements udp WHERE udp.protocol = 'udp' AND udp.response_ip IS NOT NULL AND NOT udp.cache_warming)\n",
    "      AND measurement.ip IN (SELECT ip FROM dns_measurements tls WHERE tls.protocol = 'tls' AND tls.response_ip IS NOT NULL AND NOT tls.cache_warming)\n",
    "      AND measurement.ip IN (SELECT ip FROM dns_measurements https WHERE https.protocol = 'https' AND https.response_ip IS NOT NULL AND NOT https.cache_warming)\n",
    "      AND measurement.ip IN (SELECT ip FROM dns_measurements quic WHERE quic.protocol = 'quic' AND quic.response_ip IS NOT NULL AND NOT quic.cache_warming);\n",
    "    \"\"\"\n",
    "    cursor = connection.cursor()\n",
    "    cursor.execute(sql)\n",
    "    items = list(cursor.fetchall())\n",
    "    cursor.close()\n",
    "    return items\n",
    "\n",
    "def getTLS():\n",
    "    sql = \"\"\"\n",
    "    SELECT * FROM dns_measurements measurement\n",
    "    WHERE measurement.protocol = 'tls' AND measurement.r_code IS NOT NULL AND measurement.total_time IS NOT NULL AND measurement.total_time <= 5000000000\n",
    "      AND NOT measurement.cache_warming\n",
    "      AND measurement.ip IN (SELECT ip FROM dns_measurements udp WHERE udp.protocol = 'udp' AND udp.response_ip IS NOT NULL AND NOT udp.cache_warming)\n",
    "      AND measurement.ip IN (SELECT ip FROM dns_measurements tcp WHERE tcp.protocol = 'tcp' AND tcp.response_ip IS NOT NULL AND NOT tcp.cache_warming)\n",
    "      AND measurement.ip IN (SELECT ip FROM dns_measurements https WHERE https.protocol = 'https' AND https.response_ip IS NOT NULL AND NOT https.cache_warming)\n",
    "      AND measurement.ip IN (SELECT ip FROM dns_measurements quic WHERE quic.protocol = 'quic' AND quic.response_ip IS NOT NULL AND NOT quic.cache_warming);\n",
    "    \"\"\"\n",
    "    cursor = connection.cursor()\n",
    "    cursor.execute(sql)\n",
    "    items = list(cursor.fetchall())\n",
    "    cursor.close()\n",
    "    return items\n",
    "\n",
    "def getHTTPS():\n",
    "    sql = \"\"\"\n",
    "    SELECT * FROM dns_measurements measurement\n",
    "    WHERE measurement.protocol = 'https' AND measurement.r_code IS NOT NULL AND measurement.total_time IS NOT NULL AND measurement.total_time <= 5000000000\n",
    "      AND NOT measurement.cache_warming\n",
    "      AND measurement.ip IN (SELECT ip FROM dns_measurements udp WHERE udp.protocol = 'udp' AND udp.response_ip IS NOT NULL AND NOT udp.cache_warming)\n",
    "      AND measurement.ip IN (SELECT ip FROM dns_measurements tcp WHERE tcp.protocol = 'tcp' AND tcp.response_ip IS NOT NULL AND NOT tcp.cache_warming)\n",
    "      AND measurement.ip IN (SELECT ip FROM dns_measurements tls WHERE tls.protocol = 'tls' AND tls.response_ip IS NOT NULL AND NOT tls.cache_warming)\n",
    "      AND measurement.ip IN (SELECT ip FROM dns_measurements quic WHERE quic.protocol = 'quic' AND quic.response_ip IS NOT NULL AND NOT quic.cache_warming);\n",
    "    \"\"\"\n",
    "    cursor = connection.cursor()\n",
    "    cursor.execute(sql)\n",
    "    items = list(cursor.fetchall())\n",
    "    cursor.close()\n",
    "    return items\n",
    "\n",
    "def getQUIC():\n",
    "    sql = \"\"\"\n",
    "    SELECT * FROM dns_measurements measurement\n",
    "    WHERE measurement.protocol = 'quic' AND measurement.r_code IS NOT NULL AND measurement.total_time IS NOT NULL AND measurement.total_time <= 5000000000\n",
    "      AND NOT measurement.cache_warming\n",
    "      AND measurement.ip IN (SELECT ip FROM dns_measurements udp WHERE udp.protocol = 'udp' AND udp.response_ip IS NOT NULL AND NOT udp.cache_warming)\n",
    "      AND measurement.ip IN (SELECT ip FROM dns_measurements tcp WHERE tcp.protocol = 'tcp' AND tcp.response_ip IS NOT NULL AND NOT tcp.cache_warming)\n",
    "      AND measurement.ip IN (SELECT ip FROM dns_measurements tls WHERE tls.protocol = 'tls' AND tls.response_ip IS NOT NULL AND NOT tls.cache_warming)\n",
    "      AND measurement.ip IN (SELECT ip FROM dns_measurements https WHERE https.protocol = 'https' AND https.response_ip IS NOT NULL AND NOT https.cache_warming);\n",
    "    \"\"\"\n",
    "    cursor = connection.cursor()\n",
    "    cursor.execute(sql)\n",
    "    items = list(cursor.fetchall())\n",
    "    cursor.close()\n",
    "    return items\n",
    "\n",
    "def getQUICNegotiatedProtocol():\n",
    "    sql = \"\"\"\n",
    "    SELECT DISTINCT(measurement.ip), measurement.q_ui_c_negotiated_protocol FROM dns_measurements measurement\n",
    "    WHERE measurement.protocol = 'quic' AND measurement.r_code IS NOT NULL\n",
    "    AND NOT measurement.cache_warming;\n",
    "    \"\"\"\n",
    "    cursor = connection.cursor()\n",
    "    cursor.execute(sql)\n",
    "    items = list(cursor.fetchall())\n",
    "    cursor.close()\n",
    "    return items\n",
    "\n",
    "def getQUICVersions():\n",
    "    sql = \"\"\"\n",
    "    SELECT DISTINCT(measurement.ip), measurement.q_ui_c_version FROM dns_measurements measurement\n",
    "    WHERE measurement.protocol = 'quic' AND measurement.r_code IS NOT NULL\n",
    "    AND NOT measurement.cache_warming;\n",
    "    \"\"\"\n",
    "    cursor = connection.cursor()\n",
    "    cursor.execute(sql)\n",
    "    items = list(cursor.fetchall())\n",
    "    cursor.close()\n",
    "    return items\n",
    "\n",
    "def getNumberOfSamples():\n",
    "    udp = len(getUDP())\n",
    "    tcp = len(getTCP())\n",
    "    tls = len(getTLS())\n",
    "    https = len(getHTTPS())\n",
    "    quic = len(getQUIC())\n",
    "    return pd.DataFrame({ \n",
    "        \"Protocol\": [\"UDP\", \"TCP\", \"TLS\", \"HTTPS\", \"QUIC\"],\n",
    "        \"Samples\": [udp, tcp, tls, https, quic]\n",
    "    })\n",
    "\n",
    "def getData():\n",
    "    udp = getUDP()\n",
    "    tcp = getTCP()\n",
    "    tls = getTLS()\n",
    "    https = getHTTPS()\n",
    "    quic = getQUIC()\n",
    "    return pd.DataFrame(udp + tcp + tls + https + quic, columns = udp[0].keys())\n",
    "\n",
    "def calculateCDF(items):\n",
    "    count, bins_count = np.histogram(items, bins=\"auto\")\n",
    "\n",
    "    pdf = count / sum(count)\n",
    "\n",
    "    # using numpy np.cumsum to calculate the CDF\n",
    "    # We can also find using the PDF values by looping and adding\n",
    "    cdf = np.cumsum(pdf)\n",
    "    return bins_count[1:], cdf\n",
    "\n",
    "def setBoxesWhite(bp):\n",
    "    for patch in bp['boxes']:\n",
    "        patch.set_facecolor(\"white\")"
   ]
  },
  {
   "cell_type": "markdown",
   "metadata": {},
   "source": [
    "### Total Servers used"
   ]
  },
  {
   "cell_type": "code",
   "execution_count": 4,
   "metadata": {},
   "outputs": [
    {
     "data": {
      "text/plain": [
       "200"
      ]
     },
     "execution_count": 4,
     "metadata": {},
     "output_type": "execute_result"
    }
   ],
   "source": [
    "allData = getData()\n",
    "len(allData[\"ip\"].unique())"
   ]
  },
  {
   "cell_type": "markdown",
   "metadata": {},
   "source": [
    "### Average Total Times"
   ]
  },
  {
   "cell_type": "code",
   "execution_count": 5,
   "metadata": {},
   "outputs": [
    {
     "name": "stdout",
     "output_type": "stream",
     "text": [
      "183.68490160968955\n",
      "369.2333088309621\n",
      "560.9052166339891\n",
      "555.5173896053351\n",
      "632.8985258500312\n"
     ]
    }
   ],
   "source": [
    "print(average(getUDP(), \"total_time\") / 1000000)\n",
    "print(average(getTCP(), \"total_time\") / 1000000)\n",
    "print(average(getTLS(), \"total_time\") / 1000000)\n",
    "print(average(getHTTPS(), \"total_time\") / 1000000)\n",
    "print(average(getQUIC(), \"total_time\") / 1000000)"
   ]
  },
  {
   "cell_type": "markdown",
   "metadata": {},
   "source": [
    "#### Number of Samples"
   ]
  },
  {
   "cell_type": "code",
   "execution_count": 6,
   "metadata": {
    "scrolled": true
   },
   "outputs": [
    {
     "name": "stdout",
     "output_type": "stream",
     "text": [
      "\\begin{tabular}{lr}\n",
      "\\toprule\n",
      "{} &  Samples \\\\\n",
      "Protocol &          \\\\\n",
      "\\midrule\n",
      "UDP      &     2931 \\\\\n",
      "TCP      &     2952 \\\\\n",
      "TLS      &     2948 \\\\\n",
      "HTTPS    &     2924 \\\\\n",
      "QUIC     &     3194 \\\\\n",
      "\\bottomrule\n",
      "\\end{tabular}\n",
      "\n"
     ]
    }
   ],
   "source": [
    "print(getNumberOfSamples().set_index(\"Protocol\").to_latex())"
   ]
  },
  {
   "cell_type": "markdown",
   "metadata": {},
   "source": [
    "### Comparing Protocols"
   ]
  },
  {
   "cell_type": "code",
   "execution_count": 7,
   "metadata": {},
   "outputs": [],
   "source": [
    "udp = getUDP()\n",
    "tcp = getTCP()\n",
    "tls = getTLS()\n",
    "https = getHTTPS()\n",
    "quic = getQUIC()"
   ]
  },
  {
   "cell_type": "code",
   "execution_count": 8,
   "metadata": {},
   "outputs": [
    {
     "data": {
      "image/png": "[encoded data removed]",
      "text/plain": [
       "<Figure size 720x504 with 1 Axes>"
      ]
     },
     "metadata": {
      "needs_background": "light"
     },
     "output_type": "display_data"
    }
   ],
   "source": [
    "udpQueryTime = list(map(lambda x: x[\"query_time\"] / 1000000, udp))\n",
    "tcpQueryTime = list(map(lambda x: x[\"query_time\"] / 1000000, tcp))\n",
    "tlsQueryTime = list(map(lambda x: x[\"query_time\"] / 1000000, tls))\n",
    "httpsQueryTime = list(map(lambda x: x[\"query_time\"] / 1000000, https))\n",
    "quicQueryTime = list(map(lambda x: x[\"query_time\"] / 1000000, quic))\n",
    "\n",
    "fig = plt.figure(figsize = (10, 7))\n",
    "ax = fig.add_subplot(111)\n",
    "bp = ax.boxplot([udpQueryTime, tcpQueryTime, tlsQueryTime, httpsQueryTime, quicQueryTime], vert = 0, sym = \"\", patch_artist=True, meanline = True, showmeans = True)\n",
    "setBoxesWhite(bp)\n",
    "\n",
    "for median in bp[\"medians\"]:\n",
    "    x, y = median.get_data()\n",
    "    ax.text(x[0] - 9, y[0] - 0.2, \"{:.0f}\".format(x[0]), fontsize = 9, color='black')\n",
    "\n",
    "    \n",
    "ax.set_yticklabels([\"UDP\", \"TCP\", \"TLS\", \"HTTPS\", \"QUIC\"])\n",
    "\n",
    "ax.set_xlabel('ms', fontsize = 12)\n",
    "ax.set_ylabel(\"Protocol\", fontsize = 12)\n",
    "plt.grid()\n",
    "\n",
    "plt.savefig(\"figures/merged_resolve_time_boxplot.pdf\", bbox_inches='tight')\n",
    "plt.show(bp)"
   ]
  },
  {
   "cell_type": "code",
   "execution_count": 9,
   "metadata": {},
   "outputs": [
    {
     "data": {
      "image/png": "[encoded data removed]",
      "text/plain": [
       "<Figure size 720x504 with 1 Axes>"
      ]
     },
     "metadata": {
      "needs_background": "light"
     },
     "output_type": "display_data"
    }
   ],
   "source": [
    "udpResolveTime = list(map(lambda x: x[\"query_time\"] / 1000000, udp))\n",
    "tcpResolveTime = list(map(lambda x: x[\"query_time\"] / 1000000, tcp))\n",
    "tlsResolveTime = list(map(lambda x: x[\"query_time\"] / 1000000, tls))\n",
    "httpsResolveTime = list(map(lambda x: x[\"query_time\"] / 1000000, https))\n",
    "quicResolveTime = list(map(lambda x: x[\"query_time\"] / 1000000, quic))\n",
    "\n",
    "fig = plt.figure(figsize = (10, 7))\n",
    "plt.plot(calculateCDF(udpResolveTime)[0], calculateCDF(udpResolveTime)[1], label=\"UDP\", color = Colors.udp)\n",
    "plt.plot(calculateCDF(tcpResolveTime)[0], calculateCDF(tcpResolveTime)[1], label=\"TCP\", color = Colors.tcp)\n",
    "plt.plot(calculateCDF(tlsResolveTime)[0], calculateCDF(tlsResolveTime)[1], label=\"TLS\", color = Colors.tls)\n",
    "plt.plot(calculateCDF(httpsResolveTime)[0], calculateCDF(httpsResolveTime)[1], label=\"HTTPS\", color = Colors.https)\n",
    "plt.plot(calculateCDF(quicResolveTime)[0], calculateCDF(quicResolveTime)[1], label=\"QUIC\", color = Colors.quic)\n",
    "plt.xlim([0, 350])\n",
    "\n",
    "plt.xlabel(\"ms\", fontsize = 12)\n",
    "plt.ylabel(\"CDF\")\n",
    "\n",
    "plt.legend()\n",
    "plt.grid()\n",
    "\n",
    "plt.savefig(\"figures/merged_resolve_time_cdf.pdf\", bbox_inches='tight')\n",
    "plt.show()"
   ]
  },
  {
   "cell_type": "code",
   "execution_count": 10,
   "metadata": {},
   "outputs": [
    {
     "name": "stdout",
     "output_type": "stream",
     "text": [
      "183.61074533538041\n",
      "185.13247761246612\n",
      "183.65552966485754\n",
      "183.96893145827633\n",
      "179.2884132608015\n"
     ]
    }
   ],
   "source": [
    "# Average resolve time\n",
    "print(average(udp, \"query_time\") / 1000000)\n",
    "print(average(tcp, \"query_time\") / 1000000)\n",
    "print(average(tls, \"query_time\") / 1000000)\n",
    "print(average(https, \"query_time\") / 1000000)\n",
    "print(average(quic, \"query_time\") / 1000000)"
   ]
  },
  {
   "cell_type": "code",
   "execution_count": 11,
   "metadata": {},
   "outputs": [
    {
     "data": {
      "image/png": "[encoded data removed]",
      "text/plain": [
       "<Figure size 720x504 with 1 Axes>"
      ]
     },
     "metadata": {
      "needs_background": "light"
     },
     "output_type": "display_data"
    }
   ],
   "source": [
    "udpTotalTime = list(map(lambda x: x[\"total_time\"] / 1000000, udp))\n",
    "tcpTotalTime = list(map(lambda x: x[\"total_time\"] / 1000000, tcp))\n",
    "tlsTotalTime = list(map(lambda x: x[\"total_time\"] / 1000000, tls))\n",
    "httpsTotalTime = list(map(lambda x: x[\"total_time\"] / 1000000, https))\n",
    "quicTotalTime = list(map(lambda x: x[\"total_time\"] / 1000000, quic))\n",
    "\n",
    "fig = plt.figure(figsize = (10, 7))\n",
    "ax = fig.add_subplot(111)\n",
    "bp = ax.boxplot([udpTotalTime, tcpTotalTime, tlsTotalTime, httpsTotalTime, quicTotalTime], vert = 0, showfliers = False, patch_artist=True, meanline = True, showmeans = True)\n",
    "setBoxesWhite(bp)\n",
    "\n",
    "for median in bp[\"medians\"]:\n",
    "    x, y = median.get_data()\n",
    "    ax.text(x[0] - 30, y[0] - 0.2, \"{:.0f}\".format(x[0]), fontsize = 9, color='black')\n",
    "\n",
    "ax.set_yticklabels([\"UDP\", \"TCP\", \"TLS\", \"HTTPS\", \"QUIC\"])\n",
    "\n",
    "ax.set_xlabel(\"ms\", fontsize = 12)\n",
    "ax.set_ylabel(\"Protocol\", fontsize = 12)\n",
    "plt.grid()\n",
    "\n",
    "plt.savefig(\"figures/merged_total_time_boxplot.pdf\", bbox_inches='tight')\n",
    "plt.show(bp)"
   ]
  },
  {
   "cell_type": "code",
   "execution_count": 12,
   "metadata": {},
   "outputs": [
    {
     "data": {
      "image/png": "[encoded data removed]",
      "text/plain": [
       "<Figure size 720x504 with 1 Axes>"
      ]
     },
     "metadata": {
      "needs_background": "light"
     },
     "output_type": "display_data"
    }
   ],
   "source": [
    "udpSetupTime = list(map(lambda x: x[\"udp_socket_setup_duration\"] / 1000000, udp))\n",
    "tcpSetupTime = list(map(lambda x: x[\"tcp_handshake_duration\"] / 1000000, tcp))\n",
    "tlsSetupTime = list(map(lambda x: (x[\"tcp_handshake_duration\"] + x[\"tls_handshake_duration\"]) / 1000000, tls))\n",
    "httpsSetupTime = list(map(lambda x: (x[\"tcp_handshake_duration\"] + x[\"tls_handshake_duration\"]) / 1000000, https))\n",
    "quicSetupTime = list(map(lambda x: x[\"q_ui_c_handshake_duration\"] / 1000000, quic))\n",
    "\n",
    "fig = plt.figure(figsize = (10, 7))\n",
    "ax = fig.add_subplot(111)\n",
    "bp = ax.boxplot([tcpSetupTime, tlsSetupTime, httpsSetupTime, quicSetupTime], vert = 0, showfliers = False, patch_artist=True, meanline = True, showmeans = True)\n",
    "setBoxesWhite(bp)\n",
    "\n",
    "for median in bp[\"medians\"]:\n",
    "    x, y = median.get_data()\n",
    "    ax.text(x[0] - 20, y[0] - 0.2, \"{:.0f}\".format(x[0]), fontsize = 9, color='black')\n",
    "\n",
    "ax.set_yticklabels([\"TCP\", \"TLS\", \"HTTPS\", \"QUIC\"])\n",
    "\n",
    "ax.set_xlabel(\"ms\", fontsize = 12)\n",
    "ax.set_ylabel(\"Protocol\", fontsize = 12)\n",
    "plt.grid()\n",
    "\n",
    "plt.savefig(\"figures/merged_handshake_time_boxplot.pdf\", bbox_inches='tight')\n",
    "plt.show(bp)"
   ]
  },
  {
   "cell_type": "code",
   "execution_count": 13,
   "metadata": {},
   "outputs": [
    {
     "data": {
      "text/plain": [
       "469.6290695"
      ]
     },
     "execution_count": 13,
     "metadata": {},
     "output_type": "execute_result"
    }
   ],
   "source": [
    "pd.Series(quicSetupTime).median()"
   ]
  },
  {
   "cell_type": "code",
   "execution_count": 14,
   "metadata": {},
   "outputs": [
    {
     "data": {
      "image/png": "[encoded data removed]",
      "text/plain": [
       "<Figure size 720x504 with 1 Axes>"
      ]
     },
     "metadata": {
      "needs_background": "light"
     },
     "output_type": "display_data"
    }
   ],
   "source": [
    "fig = plt.figure(figsize = (10, 7))\n",
    "plt.plot(calculateCDF(udpTotalTime)[0], calculateCDF(udpTotalTime)[1], label=\"UDP\", color = Colors.udp)\n",
    "plt.plot(calculateCDF(tcpTotalTime)[0], calculateCDF(tcpTotalTime)[1], label=\"TCP\", color = Colors.tcp)\n",
    "plt.plot(calculateCDF(tlsTotalTime)[0], calculateCDF(tlsTotalTime)[1], label=\"TLS\", color = Colors.tls)\n",
    "plt.plot(calculateCDF(httpsTotalTime)[0], calculateCDF(httpsTotalTime)[1], label=\"HTTPS\", color = Colors.https)\n",
    "plt.plot(calculateCDF(quicTotalTime)[0], calculateCDF(quicTotalTime)[1], label=\"QUIC\", color = Colors.quic)\n",
    "plt.xlim([0, 1200])\n",
    "\n",
    "plt.xlabel(\"ms\", fontsize = 12)\n",
    "plt.ylabel(\"CDF\")\n",
    "\n",
    "plt.legend()\n",
    "plt.grid()\n",
    "\n",
    "plt.savefig(\"figures/merged_total_time_cdf.pdf\", bbox_inches='tight')\n",
    "plt.show()"
   ]
  },
  {
   "cell_type": "code",
   "execution_count": 15,
   "metadata": {},
   "outputs": [
    {
     "data": {
      "image/png": "[encoded data removed]",
      "text/plain": [
       "<Figure size 720x504 with 1 Axes>"
      ]
     },
     "metadata": {
      "needs_background": "light"
     },
     "output_type": "display_data"
    }
   ],
   "source": [
    "fig = plt.figure(figsize = (10, 7))\n",
    "# plt.plot(calculateCDF(udpSetupTime)[0], calculateCDF(udpSetupTime)[1], label=\"UDP\")\n",
    "plt.plot(calculateCDF(tcpSetupTime)[0], calculateCDF(tcpSetupTime)[1], label=\"TCP\", color = Colors.tcp)\n",
    "plt.plot(calculateCDF(tlsSetupTime)[0], calculateCDF(tlsSetupTime)[1], label=\"TLS\", color = Colors.tls)\n",
    "plt.plot(calculateCDF(httpsSetupTime)[0], calculateCDF(httpsSetupTime)[1], label=\"HTTPS\", color = Colors.https)\n",
    "plt.plot(calculateCDF(quicSetupTime)[0], calculateCDF(quicSetupTime)[1], label=\"QUIC\", color = Colors.quic)\n",
    "plt.xlim([0, 800])\n",
    "\n",
    "plt.xlabel(\"ms\", fontsize = 12)\n",
    "plt.ylabel(\"CDF\")\n",
    "\n",
    "plt.legend()\n",
    "plt.grid()\n",
    "\n",
    "plt.savefig(\"figures/merged_setup_time_cdf.pdf\", bbox_inches='tight')\n",
    "\n",
    "plt.show()"
   ]
  },
  {
   "cell_type": "markdown",
   "metadata": {},
   "source": [
    "### Traceroutes per Protocol"
   ]
  },
  {
   "cell_type": "code",
   "execution_count": 16,
   "metadata": {
    "scrolled": true
   },
   "outputs": [
    {
     "ename": "DataError",
     "evalue": "No numeric types to aggregate",
     "output_type": "error",
     "traceback": [
      "\u001b[1;31m---------------------------------------------------------------------------\u001b[0m",
      "\u001b[1;31mDataError\u001b[0m                                 Traceback (most recent call last)",
      "\u001b[1;32m<ipython-input-16-bf1fcc156a69>\u001b[0m in \u001b[0;36m<module>\u001b[1;34m\u001b[0m\n\u001b[1;32m----> 1\u001b[1;33m \u001b[0mgetMeanTraceroutes\u001b[0m\u001b[1;33m(\u001b[0m\u001b[1;33m)\u001b[0m\u001b[1;33m\u001b[0m\u001b[1;33m\u001b[0m\u001b[0m\n\u001b[0m",
      "\u001b[1;32m<ipython-input-3-34fbcea99c6e>\u001b[0m in \u001b[0;36mgetMeanTraceroutes\u001b[1;34m()\u001b[0m\n\u001b[0;32m     96\u001b[0m     \u001b[0mquic_df\u001b[0m\u001b[1;33m[\u001b[0m\u001b[1;34m\"rtt\"\u001b[0m\u001b[1;33m]\u001b[0m \u001b[1;33m=\u001b[0m \u001b[0mquic_df\u001b[0m\u001b[1;33m[\u001b[0m\u001b[1;34m\"rtt\"\u001b[0m\u001b[1;33m]\u001b[0m\u001b[1;33m.\u001b[0m\u001b[0mdiv\u001b[0m\u001b[1;33m(\u001b[0m\u001b[1;36m1000000\u001b[0m\u001b[1;33m)\u001b[0m\u001b[1;33m\u001b[0m\u001b[1;33m\u001b[0m\u001b[0m\n\u001b[0;32m     97\u001b[0m \u001b[1;33m\u001b[0m\u001b[0m\n\u001b[1;32m---> 98\u001b[1;33m     \u001b[0mudp\u001b[0m \u001b[1;33m=\u001b[0m \u001b[0mudp_df\u001b[0m\u001b[1;33m.\u001b[0m\u001b[0mgroupby\u001b[0m\u001b[1;33m(\u001b[0m\u001b[1;34m\"dest_ip\"\u001b[0m\u001b[1;33m)\u001b[0m\u001b[1;33m[\u001b[0m\u001b[1;34m\"rtt\"\u001b[0m\u001b[1;33m]\u001b[0m\u001b[1;33m.\u001b[0m\u001b[0mmedian\u001b[0m\u001b[1;33m(\u001b[0m\u001b[1;33m)\u001b[0m\u001b[1;33m.\u001b[0m\u001b[0mreset_index\u001b[0m\u001b[1;33m(\u001b[0m\u001b[1;33m)\u001b[0m\u001b[1;33m[\u001b[0m\u001b[1;34m\"rtt\"\u001b[0m\u001b[1;33m]\u001b[0m\u001b[1;33m\u001b[0m\u001b[1;33m\u001b[0m\u001b[0m\n\u001b[0m\u001b[0;32m     99\u001b[0m     \u001b[0mtcp\u001b[0m \u001b[1;33m=\u001b[0m \u001b[0mtcp_df\u001b[0m\u001b[1;33m.\u001b[0m\u001b[0mgroupby\u001b[0m\u001b[1;33m(\u001b[0m\u001b[1;34m\"dest_ip\"\u001b[0m\u001b[1;33m)\u001b[0m\u001b[1;33m[\u001b[0m\u001b[1;34m\"rtt\"\u001b[0m\u001b[1;33m]\u001b[0m\u001b[1;33m.\u001b[0m\u001b[0mmedian\u001b[0m\u001b[1;33m(\u001b[0m\u001b[1;33m)\u001b[0m\u001b[1;33m.\u001b[0m\u001b[0mreset_index\u001b[0m\u001b[1;33m(\u001b[0m\u001b[1;33m)\u001b[0m\u001b[1;33m[\u001b[0m\u001b[1;34m\"rtt\"\u001b[0m\u001b[1;33m]\u001b[0m\u001b[1;33m\u001b[0m\u001b[1;33m\u001b[0m\u001b[0m\n\u001b[0;32m    100\u001b[0m     \u001b[0mtls\u001b[0m \u001b[1;33m=\u001b[0m \u001b[0mtls_df\u001b[0m\u001b[1;33m.\u001b[0m\u001b[0mgroupby\u001b[0m\u001b[1;33m(\u001b[0m\u001b[1;34m\"dest_ip\"\u001b[0m\u001b[1;33m)\u001b[0m\u001b[1;33m[\u001b[0m\u001b[1;34m\"rtt\"\u001b[0m\u001b[1;33m]\u001b[0m\u001b[1;33m.\u001b[0m\u001b[0mmedian\u001b[0m\u001b[1;33m(\u001b[0m\u001b[1;33m)\u001b[0m\u001b[1;33m.\u001b[0m\u001b[0mreset_index\u001b[0m\u001b[1;33m(\u001b[0m\u001b[1;33m)\u001b[0m\u001b[1;33m[\u001b[0m\u001b[1;34m\"rtt\"\u001b[0m\u001b[1;33m]\u001b[0m\u001b[1;33m\u001b[0m\u001b[1;33m\u001b[0m\u001b[0m\n",
      "\u001b[1;32m~\\anaconda3\\lib\\site-packages\\pandas\\core\\groupby\\groupby.py\u001b[0m in \u001b[0;36mmedian\u001b[1;34m(self, numeric_only)\u001b[0m\n\u001b[0;32m   1520\u001b[0m             \u001b[0mMedian\u001b[0m \u001b[0mof\u001b[0m \u001b[0mvalues\u001b[0m \u001b[0mwithin\u001b[0m \u001b[0meach\u001b[0m \u001b[0mgroup\u001b[0m\u001b[1;33m.\u001b[0m\u001b[1;33m\u001b[0m\u001b[1;33m\u001b[0m\u001b[0m\n\u001b[0;32m   1521\u001b[0m         \"\"\"\n\u001b[1;32m-> 1522\u001b[1;33m         return self._cython_agg_general(\n\u001b[0m\u001b[0;32m   1523\u001b[0m             \u001b[1;34m\"median\"\u001b[0m\u001b[1;33m,\u001b[0m\u001b[1;33m\u001b[0m\u001b[1;33m\u001b[0m\u001b[0m\n\u001b[0;32m   1524\u001b[0m             \u001b[0malt\u001b[0m\u001b[1;33m=\u001b[0m\u001b[1;32mlambda\u001b[0m \u001b[0mx\u001b[0m\u001b[1;33m,\u001b[0m \u001b[0maxis\u001b[0m\u001b[1;33m:\u001b[0m \u001b[0mSeries\u001b[0m\u001b[1;33m(\u001b[0m\u001b[0mx\u001b[0m\u001b[1;33m)\u001b[0m\u001b[1;33m.\u001b[0m\u001b[0mmedian\u001b[0m\u001b[1;33m(\u001b[0m\u001b[0maxis\u001b[0m\u001b[1;33m=\u001b[0m\u001b[0maxis\u001b[0m\u001b[1;33m,\u001b[0m \u001b[0mnumeric_only\u001b[0m\u001b[1;33m=\u001b[0m\u001b[0mnumeric_only\u001b[0m\u001b[1;33m)\u001b[0m\u001b[1;33m,\u001b[0m\u001b[1;33m\u001b[0m\u001b[1;33m\u001b[0m\u001b[0m\n",
      "\u001b[1;32m~\\anaconda3\\lib\\site-packages\\pandas\\core\\groupby\\groupby.py\u001b[0m in \u001b[0;36m_cython_agg_general\u001b[1;34m(self, how, alt, numeric_only, min_count)\u001b[0m\n\u001b[0;32m   1079\u001b[0m \u001b[1;33m\u001b[0m\u001b[0m\n\u001b[0;32m   1080\u001b[0m         \u001b[1;32mif\u001b[0m \u001b[1;32mnot\u001b[0m \u001b[0moutput\u001b[0m\u001b[1;33m:\u001b[0m\u001b[1;33m\u001b[0m\u001b[1;33m\u001b[0m\u001b[0m\n\u001b[1;32m-> 1081\u001b[1;33m             \u001b[1;32mraise\u001b[0m \u001b[0mDataError\u001b[0m\u001b[1;33m(\u001b[0m\u001b[1;34m\"No numeric types to aggregate\"\u001b[0m\u001b[1;33m)\u001b[0m\u001b[1;33m\u001b[0m\u001b[1;33m\u001b[0m\u001b[0m\n\u001b[0m\u001b[0;32m   1082\u001b[0m \u001b[1;33m\u001b[0m\u001b[0m\n\u001b[0;32m   1083\u001b[0m         \u001b[1;32mreturn\u001b[0m \u001b[0mself\u001b[0m\u001b[1;33m.\u001b[0m\u001b[0m_wrap_aggregated_output\u001b[0m\u001b[1;33m(\u001b[0m\u001b[0moutput\u001b[0m\u001b[1;33m,\u001b[0m \u001b[0mindex\u001b[0m\u001b[1;33m=\u001b[0m\u001b[0mself\u001b[0m\u001b[1;33m.\u001b[0m\u001b[0mgrouper\u001b[0m\u001b[1;33m.\u001b[0m\u001b[0mresult_index\u001b[0m\u001b[1;33m)\u001b[0m\u001b[1;33m\u001b[0m\u001b[1;33m\u001b[0m\u001b[0m\n",
      "\u001b[1;31mDataError\u001b[0m: No numeric types to aggregate"
     ]
    }
   ],
   "source": [
    "getMeanTraceroutes()"
   ]
  },
  {
   "cell_type": "markdown",
   "metadata": {},
   "source": [
    "### QUIC Handshake Duration / RTT"
   ]
  },
  {
   "cell_type": "code",
   "execution_count": 17,
   "metadata": {},
   "outputs": [
    {
     "ename": "ValueError",
     "evalue": "Wrong number of items passed 13, placement implies 1",
     "output_type": "error",
     "traceback": [
      "\u001b[1;31m---------------------------------------------------------------------------\u001b[0m",
      "\u001b[1;31mKeyError\u001b[0m                                  Traceback (most recent call last)",
      "\u001b[1;32m~\\anaconda3\\lib\\site-packages\\pandas\\core\\indexes\\base.py\u001b[0m in \u001b[0;36mget_loc\u001b[1;34m(self, key, method, tolerance)\u001b[0m\n\u001b[0;32m   3079\u001b[0m             \u001b[1;32mtry\u001b[0m\u001b[1;33m:\u001b[0m\u001b[1;33m\u001b[0m\u001b[1;33m\u001b[0m\u001b[0m\n\u001b[1;32m-> 3080\u001b[1;33m                 \u001b[1;32mreturn\u001b[0m \u001b[0mself\u001b[0m\u001b[1;33m.\u001b[0m\u001b[0m_engine\u001b[0m\u001b[1;33m.\u001b[0m\u001b[0mget_loc\u001b[0m\u001b[1;33m(\u001b[0m\u001b[0mcasted_key\u001b[0m\u001b[1;33m)\u001b[0m\u001b[1;33m\u001b[0m\u001b[1;33m\u001b[0m\u001b[0m\n\u001b[0m\u001b[0;32m   3081\u001b[0m             \u001b[1;32mexcept\u001b[0m \u001b[0mKeyError\u001b[0m \u001b[1;32mas\u001b[0m \u001b[0merr\u001b[0m\u001b[1;33m:\u001b[0m\u001b[1;33m\u001b[0m\u001b[1;33m\u001b[0m\u001b[0m\n",
      "\u001b[1;32mpandas\\_libs\\index.pyx\u001b[0m in \u001b[0;36mpandas._libs.index.IndexEngine.get_loc\u001b[1;34m()\u001b[0m\n",
      "\u001b[1;32mpandas\\_libs\\index.pyx\u001b[0m in \u001b[0;36mpandas._libs.index.IndexEngine.get_loc\u001b[1;34m()\u001b[0m\n",
      "\u001b[1;32mpandas\\_libs\\hashtable_class_helper.pxi\u001b[0m in \u001b[0;36mpandas._libs.hashtable.PyObjectHashTable.get_item\u001b[1;34m()\u001b[0m\n",
      "\u001b[1;32mpandas\\_libs\\hashtable_class_helper.pxi\u001b[0m in \u001b[0;36mpandas._libs.hashtable.PyObjectHashTable.get_item\u001b[1;34m()\u001b[0m\n",
      "\u001b[1;31mKeyError\u001b[0m: 'handshake/rtt'",
      "\nThe above exception was the direct cause of the following exception:\n",
      "\u001b[1;31mKeyError\u001b[0m                                  Traceback (most recent call last)",
      "\u001b[1;32m~\\anaconda3\\lib\\site-packages\\pandas\\core\\generic.py\u001b[0m in \u001b[0;36m_set_item\u001b[1;34m(self, key, value)\u001b[0m\n\u001b[0;32m   3825\u001b[0m         \u001b[1;32mtry\u001b[0m\u001b[1;33m:\u001b[0m\u001b[1;33m\u001b[0m\u001b[1;33m\u001b[0m\u001b[0m\n\u001b[1;32m-> 3826\u001b[1;33m             \u001b[0mloc\u001b[0m \u001b[1;33m=\u001b[0m \u001b[0mself\u001b[0m\u001b[1;33m.\u001b[0m\u001b[0m_info_axis\u001b[0m\u001b[1;33m.\u001b[0m\u001b[0mget_loc\u001b[0m\u001b[1;33m(\u001b[0m\u001b[0mkey\u001b[0m\u001b[1;33m)\u001b[0m\u001b[1;33m\u001b[0m\u001b[1;33m\u001b[0m\u001b[0m\n\u001b[0m\u001b[0;32m   3827\u001b[0m         \u001b[1;32mexcept\u001b[0m \u001b[0mKeyError\u001b[0m\u001b[1;33m:\u001b[0m\u001b[1;33m\u001b[0m\u001b[1;33m\u001b[0m\u001b[0m\n",
      "\u001b[1;32m~\\anaconda3\\lib\\site-packages\\pandas\\core\\indexes\\base.py\u001b[0m in \u001b[0;36mget_loc\u001b[1;34m(self, key, method, tolerance)\u001b[0m\n\u001b[0;32m   3081\u001b[0m             \u001b[1;32mexcept\u001b[0m \u001b[0mKeyError\u001b[0m \u001b[1;32mas\u001b[0m \u001b[0merr\u001b[0m\u001b[1;33m:\u001b[0m\u001b[1;33m\u001b[0m\u001b[1;33m\u001b[0m\u001b[0m\n\u001b[1;32m-> 3082\u001b[1;33m                 \u001b[1;32mraise\u001b[0m \u001b[0mKeyError\u001b[0m\u001b[1;33m(\u001b[0m\u001b[0mkey\u001b[0m\u001b[1;33m)\u001b[0m \u001b[1;32mfrom\u001b[0m \u001b[0merr\u001b[0m\u001b[1;33m\u001b[0m\u001b[1;33m\u001b[0m\u001b[0m\n\u001b[0m\u001b[0;32m   3083\u001b[0m \u001b[1;33m\u001b[0m\u001b[0m\n",
      "\u001b[1;31mKeyError\u001b[0m: 'handshake/rtt'",
      "\nDuring handling of the above exception, another exception occurred:\n",
      "\u001b[1;31mValueError\u001b[0m                                Traceback (most recent call last)",
      "\u001b[1;32m<ipython-input-17-7803108868f9>\u001b[0m in \u001b[0;36m<module>\u001b[1;34m\u001b[0m\n\u001b[0;32m      1\u001b[0m \u001b[0mtimes\u001b[0m \u001b[1;33m=\u001b[0m \u001b[0mgetQUICMedianTraceroutes\u001b[0m\u001b[1;33m(\u001b[0m\u001b[1;33m)\u001b[0m\u001b[1;33m\u001b[0m\u001b[1;33m\u001b[0m\u001b[0m\n\u001b[1;32m----> 2\u001b[1;33m \u001b[0mtimes\u001b[0m\u001b[1;33m[\u001b[0m\u001b[1;34m\"handshake/rtt\"\u001b[0m\u001b[1;33m]\u001b[0m \u001b[1;33m=\u001b[0m \u001b[0mtimes\u001b[0m\u001b[1;33m.\u001b[0m\u001b[0mapply\u001b[0m\u001b[1;33m(\u001b[0m\u001b[1;32mlambda\u001b[0m \u001b[0mrow\u001b[0m\u001b[1;33m:\u001b[0m \u001b[0mrow\u001b[0m\u001b[1;33m[\u001b[0m\u001b[1;34m\"quic_handshake_duration\"\u001b[0m\u001b[1;33m]\u001b[0m\u001b[1;33m/\u001b[0m\u001b[0mrow\u001b[0m\u001b[1;33m[\u001b[0m\u001b[1;34m\"rtt\"\u001b[0m\u001b[1;33m]\u001b[0m\u001b[1;33m,\u001b[0m \u001b[0maxis\u001b[0m \u001b[1;33m=\u001b[0m \u001b[1;36m1\u001b[0m\u001b[1;33m)\u001b[0m\u001b[1;33m\u001b[0m\u001b[1;33m\u001b[0m\u001b[0m\n\u001b[0m\u001b[0;32m      3\u001b[0m \u001b[0mtimes\u001b[0m\u001b[1;33m[\u001b[0m\u001b[1;34m\"resolve-rtt\"\u001b[0m\u001b[1;33m]\u001b[0m \u001b[1;33m=\u001b[0m \u001b[0mtimes\u001b[0m\u001b[1;33m.\u001b[0m\u001b[0mapply\u001b[0m\u001b[1;33m(\u001b[0m\u001b[1;32mlambda\u001b[0m \u001b[0mrow\u001b[0m\u001b[1;33m:\u001b[0m \u001b[1;33m(\u001b[0m\u001b[0mrow\u001b[0m\u001b[1;33m[\u001b[0m\u001b[1;34m\"query_time\"\u001b[0m\u001b[1;33m]\u001b[0m \u001b[1;33m-\u001b[0m \u001b[0mrow\u001b[0m\u001b[1;33m[\u001b[0m\u001b[1;34m\"rtt\"\u001b[0m\u001b[1;33m]\u001b[0m\u001b[1;33m)\u001b[0m \u001b[1;33m/\u001b[0m \u001b[1;36m1000000\u001b[0m\u001b[1;33m,\u001b[0m \u001b[0maxis\u001b[0m \u001b[1;33m=\u001b[0m \u001b[1;36m1\u001b[0m\u001b[1;33m)\u001b[0m\u001b[1;33m\u001b[0m\u001b[1;33m\u001b[0m\u001b[0m\n",
      "\u001b[1;32m~\\anaconda3\\lib\\site-packages\\pandas\\core\\frame.py\u001b[0m in \u001b[0;36m__setitem__\u001b[1;34m(self, key, value)\u001b[0m\n\u001b[0;32m   3161\u001b[0m         \u001b[1;32melse\u001b[0m\u001b[1;33m:\u001b[0m\u001b[1;33m\u001b[0m\u001b[1;33m\u001b[0m\u001b[0m\n\u001b[0;32m   3162\u001b[0m             \u001b[1;31m# set column\u001b[0m\u001b[1;33m\u001b[0m\u001b[1;33m\u001b[0m\u001b[1;33m\u001b[0m\u001b[0m\n\u001b[1;32m-> 3163\u001b[1;33m             \u001b[0mself\u001b[0m\u001b[1;33m.\u001b[0m\u001b[0m_set_item\u001b[0m\u001b[1;33m(\u001b[0m\u001b[0mkey\u001b[0m\u001b[1;33m,\u001b[0m \u001b[0mvalue\u001b[0m\u001b[1;33m)\u001b[0m\u001b[1;33m\u001b[0m\u001b[1;33m\u001b[0m\u001b[0m\n\u001b[0m\u001b[0;32m   3164\u001b[0m \u001b[1;33m\u001b[0m\u001b[0m\n\u001b[0;32m   3165\u001b[0m     \u001b[1;32mdef\u001b[0m \u001b[0m_setitem_slice\u001b[0m\u001b[1;33m(\u001b[0m\u001b[0mself\u001b[0m\u001b[1;33m,\u001b[0m \u001b[0mkey\u001b[0m\u001b[1;33m:\u001b[0m \u001b[0mslice\u001b[0m\u001b[1;33m,\u001b[0m \u001b[0mvalue\u001b[0m\u001b[1;33m)\u001b[0m\u001b[1;33m:\u001b[0m\u001b[1;33m\u001b[0m\u001b[1;33m\u001b[0m\u001b[0m\n",
      "\u001b[1;32m~\\anaconda3\\lib\\site-packages\\pandas\\core\\frame.py\u001b[0m in \u001b[0;36m_set_item\u001b[1;34m(self, key, value)\u001b[0m\n\u001b[0;32m   3241\u001b[0m         \u001b[0mself\u001b[0m\u001b[1;33m.\u001b[0m\u001b[0m_ensure_valid_index\u001b[0m\u001b[1;33m(\u001b[0m\u001b[0mvalue\u001b[0m\u001b[1;33m)\u001b[0m\u001b[1;33m\u001b[0m\u001b[1;33m\u001b[0m\u001b[0m\n\u001b[0;32m   3242\u001b[0m         \u001b[0mvalue\u001b[0m \u001b[1;33m=\u001b[0m \u001b[0mself\u001b[0m\u001b[1;33m.\u001b[0m\u001b[0m_sanitize_column\u001b[0m\u001b[1;33m(\u001b[0m\u001b[0mkey\u001b[0m\u001b[1;33m,\u001b[0m \u001b[0mvalue\u001b[0m\u001b[1;33m)\u001b[0m\u001b[1;33m\u001b[0m\u001b[1;33m\u001b[0m\u001b[0m\n\u001b[1;32m-> 3243\u001b[1;33m         \u001b[0mNDFrame\u001b[0m\u001b[1;33m.\u001b[0m\u001b[0m_set_item\u001b[0m\u001b[1;33m(\u001b[0m\u001b[0mself\u001b[0m\u001b[1;33m,\u001b[0m \u001b[0mkey\u001b[0m\u001b[1;33m,\u001b[0m \u001b[0mvalue\u001b[0m\u001b[1;33m)\u001b[0m\u001b[1;33m\u001b[0m\u001b[1;33m\u001b[0m\u001b[0m\n\u001b[0m\u001b[0;32m   3244\u001b[0m \u001b[1;33m\u001b[0m\u001b[0m\n\u001b[0;32m   3245\u001b[0m         \u001b[1;31m# check if we are modifying a copy\u001b[0m\u001b[1;33m\u001b[0m\u001b[1;33m\u001b[0m\u001b[1;33m\u001b[0m\u001b[0m\n",
      "\u001b[1;32m~\\anaconda3\\lib\\site-packages\\pandas\\core\\generic.py\u001b[0m in \u001b[0;36m_set_item\u001b[1;34m(self, key, value)\u001b[0m\n\u001b[0;32m   3827\u001b[0m         \u001b[1;32mexcept\u001b[0m \u001b[0mKeyError\u001b[0m\u001b[1;33m:\u001b[0m\u001b[1;33m\u001b[0m\u001b[1;33m\u001b[0m\u001b[0m\n\u001b[0;32m   3828\u001b[0m             \u001b[1;31m# This item wasn't present, just insert at end\u001b[0m\u001b[1;33m\u001b[0m\u001b[1;33m\u001b[0m\u001b[1;33m\u001b[0m\u001b[0m\n\u001b[1;32m-> 3829\u001b[1;33m             \u001b[0mself\u001b[0m\u001b[1;33m.\u001b[0m\u001b[0m_mgr\u001b[0m\u001b[1;33m.\u001b[0m\u001b[0minsert\u001b[0m\u001b[1;33m(\u001b[0m\u001b[0mlen\u001b[0m\u001b[1;33m(\u001b[0m\u001b[0mself\u001b[0m\u001b[1;33m.\u001b[0m\u001b[0m_info_axis\u001b[0m\u001b[1;33m)\u001b[0m\u001b[1;33m,\u001b[0m \u001b[0mkey\u001b[0m\u001b[1;33m,\u001b[0m \u001b[0mvalue\u001b[0m\u001b[1;33m)\u001b[0m\u001b[1;33m\u001b[0m\u001b[1;33m\u001b[0m\u001b[0m\n\u001b[0m\u001b[0;32m   3830\u001b[0m             \u001b[1;32mreturn\u001b[0m\u001b[1;33m\u001b[0m\u001b[1;33m\u001b[0m\u001b[0m\n\u001b[0;32m   3831\u001b[0m \u001b[1;33m\u001b[0m\u001b[0m\n",
      "\u001b[1;32m~\\anaconda3\\lib\\site-packages\\pandas\\core\\internals\\managers.py\u001b[0m in \u001b[0;36minsert\u001b[1;34m(self, loc, item, value, allow_duplicates)\u001b[0m\n\u001b[0;32m   1201\u001b[0m             \u001b[0mvalue\u001b[0m \u001b[1;33m=\u001b[0m \u001b[0msafe_reshape\u001b[0m\u001b[1;33m(\u001b[0m\u001b[0mvalue\u001b[0m\u001b[1;33m,\u001b[0m \u001b[1;33m(\u001b[0m\u001b[1;36m1\u001b[0m\u001b[1;33m,\u001b[0m\u001b[1;33m)\u001b[0m \u001b[1;33m+\u001b[0m \u001b[0mvalue\u001b[0m\u001b[1;33m.\u001b[0m\u001b[0mshape\u001b[0m\u001b[1;33m)\u001b[0m\u001b[1;33m\u001b[0m\u001b[1;33m\u001b[0m\u001b[0m\n\u001b[0;32m   1202\u001b[0m \u001b[1;33m\u001b[0m\u001b[0m\n\u001b[1;32m-> 1203\u001b[1;33m         \u001b[0mblock\u001b[0m \u001b[1;33m=\u001b[0m \u001b[0mmake_block\u001b[0m\u001b[1;33m(\u001b[0m\u001b[0mvalues\u001b[0m\u001b[1;33m=\u001b[0m\u001b[0mvalue\u001b[0m\u001b[1;33m,\u001b[0m \u001b[0mndim\u001b[0m\u001b[1;33m=\u001b[0m\u001b[0mself\u001b[0m\u001b[1;33m.\u001b[0m\u001b[0mndim\u001b[0m\u001b[1;33m,\u001b[0m \u001b[0mplacement\u001b[0m\u001b[1;33m=\u001b[0m\u001b[0mslice\u001b[0m\u001b[1;33m(\u001b[0m\u001b[0mloc\u001b[0m\u001b[1;33m,\u001b[0m \u001b[0mloc\u001b[0m \u001b[1;33m+\u001b[0m \u001b[1;36m1\u001b[0m\u001b[1;33m)\u001b[0m\u001b[1;33m)\u001b[0m\u001b[1;33m\u001b[0m\u001b[1;33m\u001b[0m\u001b[0m\n\u001b[0m\u001b[0;32m   1204\u001b[0m \u001b[1;33m\u001b[0m\u001b[0m\n\u001b[0;32m   1205\u001b[0m         \u001b[1;32mfor\u001b[0m \u001b[0mblkno\u001b[0m\u001b[1;33m,\u001b[0m \u001b[0mcount\u001b[0m \u001b[1;32min\u001b[0m \u001b[0m_fast_count_smallints\u001b[0m\u001b[1;33m(\u001b[0m\u001b[0mself\u001b[0m\u001b[1;33m.\u001b[0m\u001b[0mblknos\u001b[0m\u001b[1;33m[\u001b[0m\u001b[0mloc\u001b[0m\u001b[1;33m:\u001b[0m\u001b[1;33m]\u001b[0m\u001b[1;33m)\u001b[0m\u001b[1;33m:\u001b[0m\u001b[1;33m\u001b[0m\u001b[1;33m\u001b[0m\u001b[0m\n",
      "\u001b[1;32m~\\anaconda3\\lib\\site-packages\\pandas\\core\\internals\\blocks.py\u001b[0m in \u001b[0;36mmake_block\u001b[1;34m(values, placement, klass, ndim, dtype)\u001b[0m\n\u001b[0;32m   2740\u001b[0m         \u001b[0mvalues\u001b[0m \u001b[1;33m=\u001b[0m \u001b[0mDatetimeArray\u001b[0m\u001b[1;33m.\u001b[0m\u001b[0m_simple_new\u001b[0m\u001b[1;33m(\u001b[0m\u001b[0mvalues\u001b[0m\u001b[1;33m,\u001b[0m \u001b[0mdtype\u001b[0m\u001b[1;33m=\u001b[0m\u001b[0mdtype\u001b[0m\u001b[1;33m)\u001b[0m\u001b[1;33m\u001b[0m\u001b[1;33m\u001b[0m\u001b[0m\n\u001b[0;32m   2741\u001b[0m \u001b[1;33m\u001b[0m\u001b[0m\n\u001b[1;32m-> 2742\u001b[1;33m     \u001b[1;32mreturn\u001b[0m \u001b[0mklass\u001b[0m\u001b[1;33m(\u001b[0m\u001b[0mvalues\u001b[0m\u001b[1;33m,\u001b[0m \u001b[0mndim\u001b[0m\u001b[1;33m=\u001b[0m\u001b[0mndim\u001b[0m\u001b[1;33m,\u001b[0m \u001b[0mplacement\u001b[0m\u001b[1;33m=\u001b[0m\u001b[0mplacement\u001b[0m\u001b[1;33m)\u001b[0m\u001b[1;33m\u001b[0m\u001b[1;33m\u001b[0m\u001b[0m\n\u001b[0m\u001b[0;32m   2743\u001b[0m \u001b[1;33m\u001b[0m\u001b[0m\n\u001b[0;32m   2744\u001b[0m \u001b[1;33m\u001b[0m\u001b[0m\n",
      "\u001b[1;32m~\\anaconda3\\lib\\site-packages\\pandas\\core\\internals\\blocks.py\u001b[0m in \u001b[0;36m__init__\u001b[1;34m(self, values, placement, ndim)\u001b[0m\n\u001b[0;32m    140\u001b[0m \u001b[1;33m\u001b[0m\u001b[0m\n\u001b[0;32m    141\u001b[0m         \u001b[1;32mif\u001b[0m \u001b[0mself\u001b[0m\u001b[1;33m.\u001b[0m\u001b[0m_validate_ndim\u001b[0m \u001b[1;32mand\u001b[0m \u001b[0mself\u001b[0m\u001b[1;33m.\u001b[0m\u001b[0mndim\u001b[0m \u001b[1;32mand\u001b[0m \u001b[0mlen\u001b[0m\u001b[1;33m(\u001b[0m\u001b[0mself\u001b[0m\u001b[1;33m.\u001b[0m\u001b[0mmgr_locs\u001b[0m\u001b[1;33m)\u001b[0m \u001b[1;33m!=\u001b[0m \u001b[0mlen\u001b[0m\u001b[1;33m(\u001b[0m\u001b[0mself\u001b[0m\u001b[1;33m.\u001b[0m\u001b[0mvalues\u001b[0m\u001b[1;33m)\u001b[0m\u001b[1;33m:\u001b[0m\u001b[1;33m\u001b[0m\u001b[1;33m\u001b[0m\u001b[0m\n\u001b[1;32m--> 142\u001b[1;33m             raise ValueError(\n\u001b[0m\u001b[0;32m    143\u001b[0m                 \u001b[1;34mf\"Wrong number of items passed {len(self.values)}, \"\u001b[0m\u001b[1;33m\u001b[0m\u001b[1;33m\u001b[0m\u001b[0m\n\u001b[0;32m    144\u001b[0m                 \u001b[1;34mf\"placement implies {len(self.mgr_locs)}\"\u001b[0m\u001b[1;33m\u001b[0m\u001b[1;33m\u001b[0m\u001b[0m\n",
      "\u001b[1;31mValueError\u001b[0m: Wrong number of items passed 13, placement implies 1"
     ]
    }
   ],
   "source": [
    "times = getQUICMedianTraceroutes()\n",
    "times[\"handshake/rtt\"] = times.apply(lambda row: row[\"quic_handshake_duration\"]/row[\"rtt\"], axis = 1)\n",
    "times[\"resolve-rtt\"] = times.apply(lambda row: (row[\"query_time\"] - row[\"rtt\"]) / 1000000, axis = 1)"
   ]
  },
  {
   "cell_type": "code",
   "execution_count": 18,
   "metadata": {},
   "outputs": [
    {
     "ename": "ValueError",
     "evalue": "Wrong number of items passed 13, placement implies 1",
     "output_type": "error",
     "traceback": [
      "\u001b[1;31m---------------------------------------------------------------------------\u001b[0m",
      "\u001b[1;31mKeyError\u001b[0m                                  Traceback (most recent call last)",
      "\u001b[1;32m~\\anaconda3\\lib\\site-packages\\pandas\\core\\indexes\\base.py\u001b[0m in \u001b[0;36mget_loc\u001b[1;34m(self, key, method, tolerance)\u001b[0m\n\u001b[0;32m   3079\u001b[0m             \u001b[1;32mtry\u001b[0m\u001b[1;33m:\u001b[0m\u001b[1;33m\u001b[0m\u001b[1;33m\u001b[0m\u001b[0m\n\u001b[1;32m-> 3080\u001b[1;33m                 \u001b[1;32mreturn\u001b[0m \u001b[0mself\u001b[0m\u001b[1;33m.\u001b[0m\u001b[0m_engine\u001b[0m\u001b[1;33m.\u001b[0m\u001b[0mget_loc\u001b[0m\u001b[1;33m(\u001b[0m\u001b[0mcasted_key\u001b[0m\u001b[1;33m)\u001b[0m\u001b[1;33m\u001b[0m\u001b[1;33m\u001b[0m\u001b[0m\n\u001b[0m\u001b[0;32m   3081\u001b[0m             \u001b[1;32mexcept\u001b[0m \u001b[0mKeyError\u001b[0m \u001b[1;32mas\u001b[0m \u001b[0merr\u001b[0m\u001b[1;33m:\u001b[0m\u001b[1;33m\u001b[0m\u001b[1;33m\u001b[0m\u001b[0m\n",
      "\u001b[1;32mpandas\\_libs\\index.pyx\u001b[0m in \u001b[0;36mpandas._libs.index.IndexEngine.get_loc\u001b[1;34m()\u001b[0m\n",
      "\u001b[1;32mpandas\\_libs\\index.pyx\u001b[0m in \u001b[0;36mpandas._libs.index.IndexEngine.get_loc\u001b[1;34m()\u001b[0m\n",
      "\u001b[1;32mpandas\\_libs\\hashtable_class_helper.pxi\u001b[0m in \u001b[0;36mpandas._libs.hashtable.PyObjectHashTable.get_item\u001b[1;34m()\u001b[0m\n",
      "\u001b[1;32mpandas\\_libs\\hashtable_class_helper.pxi\u001b[0m in \u001b[0;36mpandas._libs.hashtable.PyObjectHashTable.get_item\u001b[1;34m()\u001b[0m\n",
      "\u001b[1;31mKeyError\u001b[0m: 'resolve-rtt'",
      "\nThe above exception was the direct cause of the following exception:\n",
      "\u001b[1;31mKeyError\u001b[0m                                  Traceback (most recent call last)",
      "\u001b[1;32m~\\anaconda3\\lib\\site-packages\\pandas\\core\\generic.py\u001b[0m in \u001b[0;36m_set_item\u001b[1;34m(self, key, value)\u001b[0m\n\u001b[0;32m   3825\u001b[0m         \u001b[1;32mtry\u001b[0m\u001b[1;33m:\u001b[0m\u001b[1;33m\u001b[0m\u001b[1;33m\u001b[0m\u001b[0m\n\u001b[1;32m-> 3826\u001b[1;33m             \u001b[0mloc\u001b[0m \u001b[1;33m=\u001b[0m \u001b[0mself\u001b[0m\u001b[1;33m.\u001b[0m\u001b[0m_info_axis\u001b[0m\u001b[1;33m.\u001b[0m\u001b[0mget_loc\u001b[0m\u001b[1;33m(\u001b[0m\u001b[0mkey\u001b[0m\u001b[1;33m)\u001b[0m\u001b[1;33m\u001b[0m\u001b[1;33m\u001b[0m\u001b[0m\n\u001b[0m\u001b[0;32m   3827\u001b[0m         \u001b[1;32mexcept\u001b[0m \u001b[0mKeyError\u001b[0m\u001b[1;33m:\u001b[0m\u001b[1;33m\u001b[0m\u001b[1;33m\u001b[0m\u001b[0m\n",
      "\u001b[1;32m~\\anaconda3\\lib\\site-packages\\pandas\\core\\indexes\\base.py\u001b[0m in \u001b[0;36mget_loc\u001b[1;34m(self, key, method, tolerance)\u001b[0m\n\u001b[0;32m   3081\u001b[0m             \u001b[1;32mexcept\u001b[0m \u001b[0mKeyError\u001b[0m \u001b[1;32mas\u001b[0m \u001b[0merr\u001b[0m\u001b[1;33m:\u001b[0m\u001b[1;33m\u001b[0m\u001b[1;33m\u001b[0m\u001b[0m\n\u001b[1;32m-> 3082\u001b[1;33m                 \u001b[1;32mraise\u001b[0m \u001b[0mKeyError\u001b[0m\u001b[1;33m(\u001b[0m\u001b[0mkey\u001b[0m\u001b[1;33m)\u001b[0m \u001b[1;32mfrom\u001b[0m \u001b[0merr\u001b[0m\u001b[1;33m\u001b[0m\u001b[1;33m\u001b[0m\u001b[0m\n\u001b[0m\u001b[0;32m   3083\u001b[0m \u001b[1;33m\u001b[0m\u001b[0m\n",
      "\u001b[1;31mKeyError\u001b[0m: 'resolve-rtt'",
      "\nDuring handling of the above exception, another exception occurred:\n",
      "\u001b[1;31mValueError\u001b[0m                                Traceback (most recent call last)",
      "\u001b[1;32m<ipython-input-18-c8d49f3d6d26>\u001b[0m in \u001b[0;36m<module>\u001b[1;34m\u001b[0m\n\u001b[0;32m      1\u001b[0m \u001b[0mtimes_uncached\u001b[0m \u001b[1;33m=\u001b[0m \u001b[0mgetQUICMedianTraceroutes\u001b[0m\u001b[1;33m(\u001b[0m\u001b[0mcacheWarming\u001b[0m \u001b[1;33m=\u001b[0m \u001b[1;32mTrue\u001b[0m\u001b[1;33m)\u001b[0m\u001b[1;33m\u001b[0m\u001b[1;33m\u001b[0m\u001b[0m\n\u001b[1;32m----> 2\u001b[1;33m \u001b[0mtimes_uncached\u001b[0m\u001b[1;33m[\u001b[0m\u001b[1;34m\"resolve-rtt\"\u001b[0m\u001b[1;33m]\u001b[0m \u001b[1;33m=\u001b[0m \u001b[0mtimes_uncached\u001b[0m\u001b[1;33m.\u001b[0m\u001b[0mapply\u001b[0m\u001b[1;33m(\u001b[0m\u001b[1;32mlambda\u001b[0m \u001b[0mrow\u001b[0m\u001b[1;33m:\u001b[0m \u001b[1;33m(\u001b[0m\u001b[0mrow\u001b[0m\u001b[1;33m[\u001b[0m\u001b[1;34m\"query_time\"\u001b[0m\u001b[1;33m]\u001b[0m \u001b[1;33m-\u001b[0m \u001b[0mrow\u001b[0m\u001b[1;33m[\u001b[0m\u001b[1;34m\"rtt\"\u001b[0m\u001b[1;33m]\u001b[0m\u001b[1;33m)\u001b[0m \u001b[1;33m/\u001b[0m \u001b[1;36m1000000\u001b[0m\u001b[1;33m,\u001b[0m \u001b[0maxis\u001b[0m \u001b[1;33m=\u001b[0m \u001b[1;36m1\u001b[0m\u001b[1;33m)\u001b[0m\u001b[1;33m\u001b[0m\u001b[1;33m\u001b[0m\u001b[0m\n\u001b[0m",
      "\u001b[1;32m~\\anaconda3\\lib\\site-packages\\pandas\\core\\frame.py\u001b[0m in \u001b[0;36m__setitem__\u001b[1;34m(self, key, value)\u001b[0m\n\u001b[0;32m   3161\u001b[0m         \u001b[1;32melse\u001b[0m\u001b[1;33m:\u001b[0m\u001b[1;33m\u001b[0m\u001b[1;33m\u001b[0m\u001b[0m\n\u001b[0;32m   3162\u001b[0m             \u001b[1;31m# set column\u001b[0m\u001b[1;33m\u001b[0m\u001b[1;33m\u001b[0m\u001b[1;33m\u001b[0m\u001b[0m\n\u001b[1;32m-> 3163\u001b[1;33m             \u001b[0mself\u001b[0m\u001b[1;33m.\u001b[0m\u001b[0m_set_item\u001b[0m\u001b[1;33m(\u001b[0m\u001b[0mkey\u001b[0m\u001b[1;33m,\u001b[0m \u001b[0mvalue\u001b[0m\u001b[1;33m)\u001b[0m\u001b[1;33m\u001b[0m\u001b[1;33m\u001b[0m\u001b[0m\n\u001b[0m\u001b[0;32m   3164\u001b[0m \u001b[1;33m\u001b[0m\u001b[0m\n\u001b[0;32m   3165\u001b[0m     \u001b[1;32mdef\u001b[0m \u001b[0m_setitem_slice\u001b[0m\u001b[1;33m(\u001b[0m\u001b[0mself\u001b[0m\u001b[1;33m,\u001b[0m \u001b[0mkey\u001b[0m\u001b[1;33m:\u001b[0m \u001b[0mslice\u001b[0m\u001b[1;33m,\u001b[0m \u001b[0mvalue\u001b[0m\u001b[1;33m)\u001b[0m\u001b[1;33m:\u001b[0m\u001b[1;33m\u001b[0m\u001b[1;33m\u001b[0m\u001b[0m\n",
      "\u001b[1;32m~\\anaconda3\\lib\\site-packages\\pandas\\core\\frame.py\u001b[0m in \u001b[0;36m_set_item\u001b[1;34m(self, key, value)\u001b[0m\n\u001b[0;32m   3241\u001b[0m         \u001b[0mself\u001b[0m\u001b[1;33m.\u001b[0m\u001b[0m_ensure_valid_index\u001b[0m\u001b[1;33m(\u001b[0m\u001b[0mvalue\u001b[0m\u001b[1;33m)\u001b[0m\u001b[1;33m\u001b[0m\u001b[1;33m\u001b[0m\u001b[0m\n\u001b[0;32m   3242\u001b[0m         \u001b[0mvalue\u001b[0m \u001b[1;33m=\u001b[0m \u001b[0mself\u001b[0m\u001b[1;33m.\u001b[0m\u001b[0m_sanitize_column\u001b[0m\u001b[1;33m(\u001b[0m\u001b[0mkey\u001b[0m\u001b[1;33m,\u001b[0m \u001b[0mvalue\u001b[0m\u001b[1;33m)\u001b[0m\u001b[1;33m\u001b[0m\u001b[1;33m\u001b[0m\u001b[0m\n\u001b[1;32m-> 3243\u001b[1;33m         \u001b[0mNDFrame\u001b[0m\u001b[1;33m.\u001b[0m\u001b[0m_set_item\u001b[0m\u001b[1;33m(\u001b[0m\u001b[0mself\u001b[0m\u001b[1;33m,\u001b[0m \u001b[0mkey\u001b[0m\u001b[1;33m,\u001b[0m \u001b[0mvalue\u001b[0m\u001b[1;33m)\u001b[0m\u001b[1;33m\u001b[0m\u001b[1;33m\u001b[0m\u001b[0m\n\u001b[0m\u001b[0;32m   3244\u001b[0m \u001b[1;33m\u001b[0m\u001b[0m\n\u001b[0;32m   3245\u001b[0m         \u001b[1;31m# check if we are modifying a copy\u001b[0m\u001b[1;33m\u001b[0m\u001b[1;33m\u001b[0m\u001b[1;33m\u001b[0m\u001b[0m\n",
      "\u001b[1;32m~\\anaconda3\\lib\\site-packages\\pandas\\core\\generic.py\u001b[0m in \u001b[0;36m_set_item\u001b[1;34m(self, key, value)\u001b[0m\n\u001b[0;32m   3827\u001b[0m         \u001b[1;32mexcept\u001b[0m \u001b[0mKeyError\u001b[0m\u001b[1;33m:\u001b[0m\u001b[1;33m\u001b[0m\u001b[1;33m\u001b[0m\u001b[0m\n\u001b[0;32m   3828\u001b[0m             \u001b[1;31m# This item wasn't present, just insert at end\u001b[0m\u001b[1;33m\u001b[0m\u001b[1;33m\u001b[0m\u001b[1;33m\u001b[0m\u001b[0m\n\u001b[1;32m-> 3829\u001b[1;33m             \u001b[0mself\u001b[0m\u001b[1;33m.\u001b[0m\u001b[0m_mgr\u001b[0m\u001b[1;33m.\u001b[0m\u001b[0minsert\u001b[0m\u001b[1;33m(\u001b[0m\u001b[0mlen\u001b[0m\u001b[1;33m(\u001b[0m\u001b[0mself\u001b[0m\u001b[1;33m.\u001b[0m\u001b[0m_info_axis\u001b[0m\u001b[1;33m)\u001b[0m\u001b[1;33m,\u001b[0m \u001b[0mkey\u001b[0m\u001b[1;33m,\u001b[0m \u001b[0mvalue\u001b[0m\u001b[1;33m)\u001b[0m\u001b[1;33m\u001b[0m\u001b[1;33m\u001b[0m\u001b[0m\n\u001b[0m\u001b[0;32m   3830\u001b[0m             \u001b[1;32mreturn\u001b[0m\u001b[1;33m\u001b[0m\u001b[1;33m\u001b[0m\u001b[0m\n\u001b[0;32m   3831\u001b[0m \u001b[1;33m\u001b[0m\u001b[0m\n",
      "\u001b[1;32m~\\anaconda3\\lib\\site-packages\\pandas\\core\\internals\\managers.py\u001b[0m in \u001b[0;36minsert\u001b[1;34m(self, loc, item, value, allow_duplicates)\u001b[0m\n\u001b[0;32m   1201\u001b[0m             \u001b[0mvalue\u001b[0m \u001b[1;33m=\u001b[0m \u001b[0msafe_reshape\u001b[0m\u001b[1;33m(\u001b[0m\u001b[0mvalue\u001b[0m\u001b[1;33m,\u001b[0m \u001b[1;33m(\u001b[0m\u001b[1;36m1\u001b[0m\u001b[1;33m,\u001b[0m\u001b[1;33m)\u001b[0m \u001b[1;33m+\u001b[0m \u001b[0mvalue\u001b[0m\u001b[1;33m.\u001b[0m\u001b[0mshape\u001b[0m\u001b[1;33m)\u001b[0m\u001b[1;33m\u001b[0m\u001b[1;33m\u001b[0m\u001b[0m\n\u001b[0;32m   1202\u001b[0m \u001b[1;33m\u001b[0m\u001b[0m\n\u001b[1;32m-> 1203\u001b[1;33m         \u001b[0mblock\u001b[0m \u001b[1;33m=\u001b[0m \u001b[0mmake_block\u001b[0m\u001b[1;33m(\u001b[0m\u001b[0mvalues\u001b[0m\u001b[1;33m=\u001b[0m\u001b[0mvalue\u001b[0m\u001b[1;33m,\u001b[0m \u001b[0mndim\u001b[0m\u001b[1;33m=\u001b[0m\u001b[0mself\u001b[0m\u001b[1;33m.\u001b[0m\u001b[0mndim\u001b[0m\u001b[1;33m,\u001b[0m \u001b[0mplacement\u001b[0m\u001b[1;33m=\u001b[0m\u001b[0mslice\u001b[0m\u001b[1;33m(\u001b[0m\u001b[0mloc\u001b[0m\u001b[1;33m,\u001b[0m \u001b[0mloc\u001b[0m \u001b[1;33m+\u001b[0m \u001b[1;36m1\u001b[0m\u001b[1;33m)\u001b[0m\u001b[1;33m)\u001b[0m\u001b[1;33m\u001b[0m\u001b[1;33m\u001b[0m\u001b[0m\n\u001b[0m\u001b[0;32m   1204\u001b[0m \u001b[1;33m\u001b[0m\u001b[0m\n\u001b[0;32m   1205\u001b[0m         \u001b[1;32mfor\u001b[0m \u001b[0mblkno\u001b[0m\u001b[1;33m,\u001b[0m \u001b[0mcount\u001b[0m \u001b[1;32min\u001b[0m \u001b[0m_fast_count_smallints\u001b[0m\u001b[1;33m(\u001b[0m\u001b[0mself\u001b[0m\u001b[1;33m.\u001b[0m\u001b[0mblknos\u001b[0m\u001b[1;33m[\u001b[0m\u001b[0mloc\u001b[0m\u001b[1;33m:\u001b[0m\u001b[1;33m]\u001b[0m\u001b[1;33m)\u001b[0m\u001b[1;33m:\u001b[0m\u001b[1;33m\u001b[0m\u001b[1;33m\u001b[0m\u001b[0m\n",
      "\u001b[1;32m~\\anaconda3\\lib\\site-packages\\pandas\\core\\internals\\blocks.py\u001b[0m in \u001b[0;36mmake_block\u001b[1;34m(values, placement, klass, ndim, dtype)\u001b[0m\n\u001b[0;32m   2740\u001b[0m         \u001b[0mvalues\u001b[0m \u001b[1;33m=\u001b[0m \u001b[0mDatetimeArray\u001b[0m\u001b[1;33m.\u001b[0m\u001b[0m_simple_new\u001b[0m\u001b[1;33m(\u001b[0m\u001b[0mvalues\u001b[0m\u001b[1;33m,\u001b[0m \u001b[0mdtype\u001b[0m\u001b[1;33m=\u001b[0m\u001b[0mdtype\u001b[0m\u001b[1;33m)\u001b[0m\u001b[1;33m\u001b[0m\u001b[1;33m\u001b[0m\u001b[0m\n\u001b[0;32m   2741\u001b[0m \u001b[1;33m\u001b[0m\u001b[0m\n\u001b[1;32m-> 2742\u001b[1;33m     \u001b[1;32mreturn\u001b[0m \u001b[0mklass\u001b[0m\u001b[1;33m(\u001b[0m\u001b[0mvalues\u001b[0m\u001b[1;33m,\u001b[0m \u001b[0mndim\u001b[0m\u001b[1;33m=\u001b[0m\u001b[0mndim\u001b[0m\u001b[1;33m,\u001b[0m \u001b[0mplacement\u001b[0m\u001b[1;33m=\u001b[0m\u001b[0mplacement\u001b[0m\u001b[1;33m)\u001b[0m\u001b[1;33m\u001b[0m\u001b[1;33m\u001b[0m\u001b[0m\n\u001b[0m\u001b[0;32m   2743\u001b[0m \u001b[1;33m\u001b[0m\u001b[0m\n\u001b[0;32m   2744\u001b[0m \u001b[1;33m\u001b[0m\u001b[0m\n",
      "\u001b[1;32m~\\anaconda3\\lib\\site-packages\\pandas\\core\\internals\\blocks.py\u001b[0m in \u001b[0;36m__init__\u001b[1;34m(self, values, placement, ndim)\u001b[0m\n\u001b[0;32m    140\u001b[0m \u001b[1;33m\u001b[0m\u001b[0m\n\u001b[0;32m    141\u001b[0m         \u001b[1;32mif\u001b[0m \u001b[0mself\u001b[0m\u001b[1;33m.\u001b[0m\u001b[0m_validate_ndim\u001b[0m \u001b[1;32mand\u001b[0m \u001b[0mself\u001b[0m\u001b[1;33m.\u001b[0m\u001b[0mndim\u001b[0m \u001b[1;32mand\u001b[0m \u001b[0mlen\u001b[0m\u001b[1;33m(\u001b[0m\u001b[0mself\u001b[0m\u001b[1;33m.\u001b[0m\u001b[0mmgr_locs\u001b[0m\u001b[1;33m)\u001b[0m \u001b[1;33m!=\u001b[0m \u001b[0mlen\u001b[0m\u001b[1;33m(\u001b[0m\u001b[0mself\u001b[0m\u001b[1;33m.\u001b[0m\u001b[0mvalues\u001b[0m\u001b[1;33m)\u001b[0m\u001b[1;33m:\u001b[0m\u001b[1;33m\u001b[0m\u001b[1;33m\u001b[0m\u001b[0m\n\u001b[1;32m--> 142\u001b[1;33m             raise ValueError(\n\u001b[0m\u001b[0;32m    143\u001b[0m                 \u001b[1;34mf\"Wrong number of items passed {len(self.values)}, \"\u001b[0m\u001b[1;33m\u001b[0m\u001b[1;33m\u001b[0m\u001b[0m\n\u001b[0;32m    144\u001b[0m                 \u001b[1;34mf\"placement implies {len(self.mgr_locs)}\"\u001b[0m\u001b[1;33m\u001b[0m\u001b[1;33m\u001b[0m\u001b[0m\n",
      "\u001b[1;31mValueError\u001b[0m: Wrong number of items passed 13, placement implies 1"
     ]
    }
   ],
   "source": [
    "times_uncached = getQUICMedianTraceroutes(cacheWarming = True)\n",
    "times_uncached[\"resolve-rtt\"] = times_uncached.apply(lambda row: (row[\"query_time\"] - row[\"rtt\"]) / 1000000, axis = 1)"
   ]
  },
  {
   "cell_type": "code",
   "execution_count": 19,
   "metadata": {},
   "outputs": [
    {
     "ename": "ValueError",
     "evalue": "Wrong number of items passed 13, placement implies 1",
     "output_type": "error",
     "traceback": [
      "\u001b[1;31m---------------------------------------------------------------------------\u001b[0m",
      "\u001b[1;31mKeyError\u001b[0m                                  Traceback (most recent call last)",
      "\u001b[1;32m~\\anaconda3\\lib\\site-packages\\pandas\\core\\indexes\\base.py\u001b[0m in \u001b[0;36mget_loc\u001b[1;34m(self, key, method, tolerance)\u001b[0m\n\u001b[0;32m   3079\u001b[0m             \u001b[1;32mtry\u001b[0m\u001b[1;33m:\u001b[0m\u001b[1;33m\u001b[0m\u001b[1;33m\u001b[0m\u001b[0m\n\u001b[1;32m-> 3080\u001b[1;33m                 \u001b[1;32mreturn\u001b[0m \u001b[0mself\u001b[0m\u001b[1;33m.\u001b[0m\u001b[0m_engine\u001b[0m\u001b[1;33m.\u001b[0m\u001b[0mget_loc\u001b[0m\u001b[1;33m(\u001b[0m\u001b[0mcasted_key\u001b[0m\u001b[1;33m)\u001b[0m\u001b[1;33m\u001b[0m\u001b[1;33m\u001b[0m\u001b[0m\n\u001b[0m\u001b[0;32m   3081\u001b[0m             \u001b[1;32mexcept\u001b[0m \u001b[0mKeyError\u001b[0m \u001b[1;32mas\u001b[0m \u001b[0merr\u001b[0m\u001b[1;33m:\u001b[0m\u001b[1;33m\u001b[0m\u001b[1;33m\u001b[0m\u001b[0m\n",
      "\u001b[1;32mpandas\\_libs\\index.pyx\u001b[0m in \u001b[0;36mpandas._libs.index.IndexEngine.get_loc\u001b[1;34m()\u001b[0m\n",
      "\u001b[1;32mpandas\\_libs\\index.pyx\u001b[0m in \u001b[0;36mpandas._libs.index.IndexEngine.get_loc\u001b[1;34m()\u001b[0m\n",
      "\u001b[1;32mpandas\\_libs\\hashtable_class_helper.pxi\u001b[0m in \u001b[0;36mpandas._libs.hashtable.PyObjectHashTable.get_item\u001b[1;34m()\u001b[0m\n",
      "\u001b[1;32mpandas\\_libs\\hashtable_class_helper.pxi\u001b[0m in \u001b[0;36mpandas._libs.hashtable.PyObjectHashTable.get_item\u001b[1;34m()\u001b[0m\n",
      "\u001b[1;31mKeyError\u001b[0m: 'handshake/rtt'",
      "\nThe above exception was the direct cause of the following exception:\n",
      "\u001b[1;31mKeyError\u001b[0m                                  Traceback (most recent call last)",
      "\u001b[1;32m~\\anaconda3\\lib\\site-packages\\pandas\\core\\generic.py\u001b[0m in \u001b[0;36m_set_item\u001b[1;34m(self, key, value)\u001b[0m\n\u001b[0;32m   3825\u001b[0m         \u001b[1;32mtry\u001b[0m\u001b[1;33m:\u001b[0m\u001b[1;33m\u001b[0m\u001b[1;33m\u001b[0m\u001b[0m\n\u001b[1;32m-> 3826\u001b[1;33m             \u001b[0mloc\u001b[0m \u001b[1;33m=\u001b[0m \u001b[0mself\u001b[0m\u001b[1;33m.\u001b[0m\u001b[0m_info_axis\u001b[0m\u001b[1;33m.\u001b[0m\u001b[0mget_loc\u001b[0m\u001b[1;33m(\u001b[0m\u001b[0mkey\u001b[0m\u001b[1;33m)\u001b[0m\u001b[1;33m\u001b[0m\u001b[1;33m\u001b[0m\u001b[0m\n\u001b[0m\u001b[0;32m   3827\u001b[0m         \u001b[1;32mexcept\u001b[0m \u001b[0mKeyError\u001b[0m\u001b[1;33m:\u001b[0m\u001b[1;33m\u001b[0m\u001b[1;33m\u001b[0m\u001b[0m\n",
      "\u001b[1;32m~\\anaconda3\\lib\\site-packages\\pandas\\core\\indexes\\base.py\u001b[0m in \u001b[0;36mget_loc\u001b[1;34m(self, key, method, tolerance)\u001b[0m\n\u001b[0;32m   3081\u001b[0m             \u001b[1;32mexcept\u001b[0m \u001b[0mKeyError\u001b[0m \u001b[1;32mas\u001b[0m \u001b[0merr\u001b[0m\u001b[1;33m:\u001b[0m\u001b[1;33m\u001b[0m\u001b[1;33m\u001b[0m\u001b[0m\n\u001b[1;32m-> 3082\u001b[1;33m                 \u001b[1;32mraise\u001b[0m \u001b[0mKeyError\u001b[0m\u001b[1;33m(\u001b[0m\u001b[0mkey\u001b[0m\u001b[1;33m)\u001b[0m \u001b[1;32mfrom\u001b[0m \u001b[0merr\u001b[0m\u001b[1;33m\u001b[0m\u001b[1;33m\u001b[0m\u001b[0m\n\u001b[0m\u001b[0;32m   3083\u001b[0m \u001b[1;33m\u001b[0m\u001b[0m\n",
      "\u001b[1;31mKeyError\u001b[0m: 'handshake/rtt'",
      "\nDuring handling of the above exception, another exception occurred:\n",
      "\u001b[1;31mValueError\u001b[0m                                Traceback (most recent call last)",
      "\u001b[1;32m<ipython-input-19-fc69be5bb4ea>\u001b[0m in \u001b[0;36m<module>\u001b[1;34m\u001b[0m\n\u001b[0;32m     39\u001b[0m \u001b[1;33m\u001b[0m\u001b[0m\n\u001b[0;32m     40\u001b[0m \u001b[1;33m\u001b[0m\u001b[0m\n\u001b[1;32m---> 41\u001b[1;33m \u001b[0mplotHandshake\u001b[0m\u001b[1;33m(\u001b[0m\u001b[1;33m)\u001b[0m\u001b[1;33m\u001b[0m\u001b[1;33m\u001b[0m\u001b[0m\n\u001b[0m",
      "\u001b[1;32m<ipython-input-19-fc69be5bb4ea>\u001b[0m in \u001b[0;36mplotHandshake\u001b[1;34m()\u001b[0m\n\u001b[0;32m     12\u001b[0m     \u001b[0mtlsTimes\u001b[0m \u001b[1;33m=\u001b[0m \u001b[0mgetQUICMedianTraceroutes\u001b[0m\u001b[1;33m(\u001b[0m\u001b[0mprotocol\u001b[0m \u001b[1;33m=\u001b[0m \u001b[1;34m\"tls\"\u001b[0m\u001b[1;33m)\u001b[0m\u001b[1;33m\u001b[0m\u001b[1;33m\u001b[0m\u001b[0m\n\u001b[0;32m     13\u001b[0m     \u001b[0mhttpsTimes\u001b[0m \u001b[1;33m=\u001b[0m \u001b[0mgetQUICMedianTraceroutes\u001b[0m\u001b[1;33m(\u001b[0m\u001b[0mprotocol\u001b[0m \u001b[1;33m=\u001b[0m \u001b[1;34m\"https\"\u001b[0m\u001b[1;33m)\u001b[0m\u001b[1;33m\u001b[0m\u001b[1;33m\u001b[0m\u001b[0m\n\u001b[1;32m---> 14\u001b[1;33m     \u001b[0mquicTimes\u001b[0m\u001b[1;33m[\u001b[0m\u001b[1;34m\"handshake/rtt\"\u001b[0m\u001b[1;33m]\u001b[0m \u001b[1;33m=\u001b[0m \u001b[0mquicTimes\u001b[0m\u001b[1;33m.\u001b[0m\u001b[0mapply\u001b[0m\u001b[1;33m(\u001b[0m\u001b[1;32mlambda\u001b[0m \u001b[0mrow\u001b[0m\u001b[1;33m:\u001b[0m \u001b[0mrow\u001b[0m\u001b[1;33m[\u001b[0m\u001b[1;34m\"quic_handshake_duration\"\u001b[0m\u001b[1;33m]\u001b[0m\u001b[1;33m/\u001b[0m\u001b[0mrow\u001b[0m\u001b[1;33m[\u001b[0m\u001b[1;34m\"rtt\"\u001b[0m\u001b[1;33m]\u001b[0m\u001b[1;33m,\u001b[0m \u001b[0maxis\u001b[0m \u001b[1;33m=\u001b[0m \u001b[1;36m1\u001b[0m\u001b[1;33m)\u001b[0m\u001b[1;33m\u001b[0m\u001b[1;33m\u001b[0m\u001b[0m\n\u001b[0m\u001b[0;32m     15\u001b[0m     \u001b[0mtcpTimes\u001b[0m\u001b[1;33m[\u001b[0m\u001b[1;34m\"handshake/rtt\"\u001b[0m\u001b[1;33m]\u001b[0m \u001b[1;33m=\u001b[0m \u001b[0mtcpTimes\u001b[0m\u001b[1;33m.\u001b[0m\u001b[0mapply\u001b[0m\u001b[1;33m(\u001b[0m\u001b[1;32mlambda\u001b[0m \u001b[0mrow\u001b[0m\u001b[1;33m:\u001b[0m \u001b[0mrow\u001b[0m\u001b[1;33m[\u001b[0m\u001b[1;34m\"tcp_handshake_duration\"\u001b[0m\u001b[1;33m]\u001b[0m\u001b[1;33m/\u001b[0m\u001b[0mrow\u001b[0m\u001b[1;33m[\u001b[0m\u001b[1;34m\"rtt\"\u001b[0m\u001b[1;33m]\u001b[0m\u001b[1;33m,\u001b[0m \u001b[0maxis\u001b[0m \u001b[1;33m=\u001b[0m \u001b[1;36m1\u001b[0m\u001b[1;33m)\u001b[0m\u001b[1;33m\u001b[0m\u001b[1;33m\u001b[0m\u001b[0m\n\u001b[0;32m     16\u001b[0m     \u001b[0mtlsTimes\u001b[0m\u001b[1;33m[\u001b[0m\u001b[1;34m\"handshake/rtt\"\u001b[0m\u001b[1;33m]\u001b[0m \u001b[1;33m=\u001b[0m \u001b[0mtlsTimes\u001b[0m\u001b[1;33m.\u001b[0m\u001b[0mapply\u001b[0m\u001b[1;33m(\u001b[0m\u001b[0maddTLS\u001b[0m\u001b[1;33m,\u001b[0m \u001b[0maxis\u001b[0m \u001b[1;33m=\u001b[0m \u001b[1;36m1\u001b[0m\u001b[1;33m)\u001b[0m\u001b[1;33m\u001b[0m\u001b[1;33m\u001b[0m\u001b[0m\n",
      "\u001b[1;32m~\\anaconda3\\lib\\site-packages\\pandas\\core\\frame.py\u001b[0m in \u001b[0;36m__setitem__\u001b[1;34m(self, key, value)\u001b[0m\n\u001b[0;32m   3161\u001b[0m         \u001b[1;32melse\u001b[0m\u001b[1;33m:\u001b[0m\u001b[1;33m\u001b[0m\u001b[1;33m\u001b[0m\u001b[0m\n\u001b[0;32m   3162\u001b[0m             \u001b[1;31m# set column\u001b[0m\u001b[1;33m\u001b[0m\u001b[1;33m\u001b[0m\u001b[1;33m\u001b[0m\u001b[0m\n\u001b[1;32m-> 3163\u001b[1;33m             \u001b[0mself\u001b[0m\u001b[1;33m.\u001b[0m\u001b[0m_set_item\u001b[0m\u001b[1;33m(\u001b[0m\u001b[0mkey\u001b[0m\u001b[1;33m,\u001b[0m \u001b[0mvalue\u001b[0m\u001b[1;33m)\u001b[0m\u001b[1;33m\u001b[0m\u001b[1;33m\u001b[0m\u001b[0m\n\u001b[0m\u001b[0;32m   3164\u001b[0m \u001b[1;33m\u001b[0m\u001b[0m\n\u001b[0;32m   3165\u001b[0m     \u001b[1;32mdef\u001b[0m \u001b[0m_setitem_slice\u001b[0m\u001b[1;33m(\u001b[0m\u001b[0mself\u001b[0m\u001b[1;33m,\u001b[0m \u001b[0mkey\u001b[0m\u001b[1;33m:\u001b[0m \u001b[0mslice\u001b[0m\u001b[1;33m,\u001b[0m \u001b[0mvalue\u001b[0m\u001b[1;33m)\u001b[0m\u001b[1;33m:\u001b[0m\u001b[1;33m\u001b[0m\u001b[1;33m\u001b[0m\u001b[0m\n",
      "\u001b[1;32m~\\anaconda3\\lib\\site-packages\\pandas\\core\\frame.py\u001b[0m in \u001b[0;36m_set_item\u001b[1;34m(self, key, value)\u001b[0m\n\u001b[0;32m   3241\u001b[0m         \u001b[0mself\u001b[0m\u001b[1;33m.\u001b[0m\u001b[0m_ensure_valid_index\u001b[0m\u001b[1;33m(\u001b[0m\u001b[0mvalue\u001b[0m\u001b[1;33m)\u001b[0m\u001b[1;33m\u001b[0m\u001b[1;33m\u001b[0m\u001b[0m\n\u001b[0;32m   3242\u001b[0m         \u001b[0mvalue\u001b[0m \u001b[1;33m=\u001b[0m \u001b[0mself\u001b[0m\u001b[1;33m.\u001b[0m\u001b[0m_sanitize_column\u001b[0m\u001b[1;33m(\u001b[0m\u001b[0mkey\u001b[0m\u001b[1;33m,\u001b[0m \u001b[0mvalue\u001b[0m\u001b[1;33m)\u001b[0m\u001b[1;33m\u001b[0m\u001b[1;33m\u001b[0m\u001b[0m\n\u001b[1;32m-> 3243\u001b[1;33m         \u001b[0mNDFrame\u001b[0m\u001b[1;33m.\u001b[0m\u001b[0m_set_item\u001b[0m\u001b[1;33m(\u001b[0m\u001b[0mself\u001b[0m\u001b[1;33m,\u001b[0m \u001b[0mkey\u001b[0m\u001b[1;33m,\u001b[0m \u001b[0mvalue\u001b[0m\u001b[1;33m)\u001b[0m\u001b[1;33m\u001b[0m\u001b[1;33m\u001b[0m\u001b[0m\n\u001b[0m\u001b[0;32m   3244\u001b[0m \u001b[1;33m\u001b[0m\u001b[0m\n\u001b[0;32m   3245\u001b[0m         \u001b[1;31m# check if we are modifying a copy\u001b[0m\u001b[1;33m\u001b[0m\u001b[1;33m\u001b[0m\u001b[1;33m\u001b[0m\u001b[0m\n",
      "\u001b[1;32m~\\anaconda3\\lib\\site-packages\\pandas\\core\\generic.py\u001b[0m in \u001b[0;36m_set_item\u001b[1;34m(self, key, value)\u001b[0m\n\u001b[0;32m   3827\u001b[0m         \u001b[1;32mexcept\u001b[0m \u001b[0mKeyError\u001b[0m\u001b[1;33m:\u001b[0m\u001b[1;33m\u001b[0m\u001b[1;33m\u001b[0m\u001b[0m\n\u001b[0;32m   3828\u001b[0m             \u001b[1;31m# This item wasn't present, just insert at end\u001b[0m\u001b[1;33m\u001b[0m\u001b[1;33m\u001b[0m\u001b[1;33m\u001b[0m\u001b[0m\n\u001b[1;32m-> 3829\u001b[1;33m             \u001b[0mself\u001b[0m\u001b[1;33m.\u001b[0m\u001b[0m_mgr\u001b[0m\u001b[1;33m.\u001b[0m\u001b[0minsert\u001b[0m\u001b[1;33m(\u001b[0m\u001b[0mlen\u001b[0m\u001b[1;33m(\u001b[0m\u001b[0mself\u001b[0m\u001b[1;33m.\u001b[0m\u001b[0m_info_axis\u001b[0m\u001b[1;33m)\u001b[0m\u001b[1;33m,\u001b[0m \u001b[0mkey\u001b[0m\u001b[1;33m,\u001b[0m \u001b[0mvalue\u001b[0m\u001b[1;33m)\u001b[0m\u001b[1;33m\u001b[0m\u001b[1;33m\u001b[0m\u001b[0m\n\u001b[0m\u001b[0;32m   3830\u001b[0m             \u001b[1;32mreturn\u001b[0m\u001b[1;33m\u001b[0m\u001b[1;33m\u001b[0m\u001b[0m\n\u001b[0;32m   3831\u001b[0m \u001b[1;33m\u001b[0m\u001b[0m\n",
      "\u001b[1;32m~\\anaconda3\\lib\\site-packages\\pandas\\core\\internals\\managers.py\u001b[0m in \u001b[0;36minsert\u001b[1;34m(self, loc, item, value, allow_duplicates)\u001b[0m\n\u001b[0;32m   1201\u001b[0m             \u001b[0mvalue\u001b[0m \u001b[1;33m=\u001b[0m \u001b[0msafe_reshape\u001b[0m\u001b[1;33m(\u001b[0m\u001b[0mvalue\u001b[0m\u001b[1;33m,\u001b[0m \u001b[1;33m(\u001b[0m\u001b[1;36m1\u001b[0m\u001b[1;33m,\u001b[0m\u001b[1;33m)\u001b[0m \u001b[1;33m+\u001b[0m \u001b[0mvalue\u001b[0m\u001b[1;33m.\u001b[0m\u001b[0mshape\u001b[0m\u001b[1;33m)\u001b[0m\u001b[1;33m\u001b[0m\u001b[1;33m\u001b[0m\u001b[0m\n\u001b[0;32m   1202\u001b[0m \u001b[1;33m\u001b[0m\u001b[0m\n\u001b[1;32m-> 1203\u001b[1;33m         \u001b[0mblock\u001b[0m \u001b[1;33m=\u001b[0m \u001b[0mmake_block\u001b[0m\u001b[1;33m(\u001b[0m\u001b[0mvalues\u001b[0m\u001b[1;33m=\u001b[0m\u001b[0mvalue\u001b[0m\u001b[1;33m,\u001b[0m \u001b[0mndim\u001b[0m\u001b[1;33m=\u001b[0m\u001b[0mself\u001b[0m\u001b[1;33m.\u001b[0m\u001b[0mndim\u001b[0m\u001b[1;33m,\u001b[0m \u001b[0mplacement\u001b[0m\u001b[1;33m=\u001b[0m\u001b[0mslice\u001b[0m\u001b[1;33m(\u001b[0m\u001b[0mloc\u001b[0m\u001b[1;33m,\u001b[0m \u001b[0mloc\u001b[0m \u001b[1;33m+\u001b[0m \u001b[1;36m1\u001b[0m\u001b[1;33m)\u001b[0m\u001b[1;33m)\u001b[0m\u001b[1;33m\u001b[0m\u001b[1;33m\u001b[0m\u001b[0m\n\u001b[0m\u001b[0;32m   1204\u001b[0m \u001b[1;33m\u001b[0m\u001b[0m\n\u001b[0;32m   1205\u001b[0m         \u001b[1;32mfor\u001b[0m \u001b[0mblkno\u001b[0m\u001b[1;33m,\u001b[0m \u001b[0mcount\u001b[0m \u001b[1;32min\u001b[0m \u001b[0m_fast_count_smallints\u001b[0m\u001b[1;33m(\u001b[0m\u001b[0mself\u001b[0m\u001b[1;33m.\u001b[0m\u001b[0mblknos\u001b[0m\u001b[1;33m[\u001b[0m\u001b[0mloc\u001b[0m\u001b[1;33m:\u001b[0m\u001b[1;33m]\u001b[0m\u001b[1;33m)\u001b[0m\u001b[1;33m:\u001b[0m\u001b[1;33m\u001b[0m\u001b[1;33m\u001b[0m\u001b[0m\n",
      "\u001b[1;32m~\\anaconda3\\lib\\site-packages\\pandas\\core\\internals\\blocks.py\u001b[0m in \u001b[0;36mmake_block\u001b[1;34m(values, placement, klass, ndim, dtype)\u001b[0m\n\u001b[0;32m   2740\u001b[0m         \u001b[0mvalues\u001b[0m \u001b[1;33m=\u001b[0m \u001b[0mDatetimeArray\u001b[0m\u001b[1;33m.\u001b[0m\u001b[0m_simple_new\u001b[0m\u001b[1;33m(\u001b[0m\u001b[0mvalues\u001b[0m\u001b[1;33m,\u001b[0m \u001b[0mdtype\u001b[0m\u001b[1;33m=\u001b[0m\u001b[0mdtype\u001b[0m\u001b[1;33m)\u001b[0m\u001b[1;33m\u001b[0m\u001b[1;33m\u001b[0m\u001b[0m\n\u001b[0;32m   2741\u001b[0m \u001b[1;33m\u001b[0m\u001b[0m\n\u001b[1;32m-> 2742\u001b[1;33m     \u001b[1;32mreturn\u001b[0m \u001b[0mklass\u001b[0m\u001b[1;33m(\u001b[0m\u001b[0mvalues\u001b[0m\u001b[1;33m,\u001b[0m \u001b[0mndim\u001b[0m\u001b[1;33m=\u001b[0m\u001b[0mndim\u001b[0m\u001b[1;33m,\u001b[0m \u001b[0mplacement\u001b[0m\u001b[1;33m=\u001b[0m\u001b[0mplacement\u001b[0m\u001b[1;33m)\u001b[0m\u001b[1;33m\u001b[0m\u001b[1;33m\u001b[0m\u001b[0m\n\u001b[0m\u001b[0;32m   2743\u001b[0m \u001b[1;33m\u001b[0m\u001b[0m\n\u001b[0;32m   2744\u001b[0m \u001b[1;33m\u001b[0m\u001b[0m\n",
      "\u001b[1;32m~\\anaconda3\\lib\\site-packages\\pandas\\core\\internals\\blocks.py\u001b[0m in \u001b[0;36m__init__\u001b[1;34m(self, values, placement, ndim)\u001b[0m\n\u001b[0;32m    140\u001b[0m \u001b[1;33m\u001b[0m\u001b[0m\n\u001b[0;32m    141\u001b[0m         \u001b[1;32mif\u001b[0m \u001b[0mself\u001b[0m\u001b[1;33m.\u001b[0m\u001b[0m_validate_ndim\u001b[0m \u001b[1;32mand\u001b[0m \u001b[0mself\u001b[0m\u001b[1;33m.\u001b[0m\u001b[0mndim\u001b[0m \u001b[1;32mand\u001b[0m \u001b[0mlen\u001b[0m\u001b[1;33m(\u001b[0m\u001b[0mself\u001b[0m\u001b[1;33m.\u001b[0m\u001b[0mmgr_locs\u001b[0m\u001b[1;33m)\u001b[0m \u001b[1;33m!=\u001b[0m \u001b[0mlen\u001b[0m\u001b[1;33m(\u001b[0m\u001b[0mself\u001b[0m\u001b[1;33m.\u001b[0m\u001b[0mvalues\u001b[0m\u001b[1;33m)\u001b[0m\u001b[1;33m:\u001b[0m\u001b[1;33m\u001b[0m\u001b[1;33m\u001b[0m\u001b[0m\n\u001b[1;32m--> 142\u001b[1;33m             raise ValueError(\n\u001b[0m\u001b[0;32m    143\u001b[0m                 \u001b[1;34mf\"Wrong number of items passed {len(self.values)}, \"\u001b[0m\u001b[1;33m\u001b[0m\u001b[1;33m\u001b[0m\u001b[0m\n\u001b[0;32m    144\u001b[0m                 \u001b[1;34mf\"placement implies {len(self.mgr_locs)}\"\u001b[0m\u001b[1;33m\u001b[0m\u001b[1;33m\u001b[0m\u001b[0m\n",
      "\u001b[1;31mValueError\u001b[0m: Wrong number of items passed 13, placement implies 1"
     ]
    }
   ],
   "source": [
    "def plotHandshake():\n",
    "    def filterNA(df):\n",
    "        return df[df[\"handshake/rtt\"].notna()][\"handshake/rtt\"].tolist()\n",
    "    \n",
    "    def addTLS(row):\n",
    "        if row[\"tcp_handshake_duration\"] and row[\"tls_handshake_duration\"]:\n",
    "            return (row[\"tcp_handshake_duration\"] + row[\"tls_handshake_duration\"])/row[\"rtt\"]\n",
    "        return np.nan\n",
    "    \n",
    "    quicTimes = getQUICMedianTraceroutes(protocol = \"quic\")\n",
    "    tcpTimes = getQUICMedianTraceroutes(protocol = \"tcp\")\n",
    "    tlsTimes = getQUICMedianTraceroutes(protocol = \"tls\")\n",
    "    httpsTimes = getQUICMedianTraceroutes(protocol = \"https\")\n",
    "    quicTimes[\"handshake/rtt\"] = quicTimes.apply(lambda row: row[\"quic_handshake_duration\"]/row[\"rtt\"], axis = 1)\n",
    "    tcpTimes[\"handshake/rtt\"] = tcpTimes.apply(lambda row: row[\"tcp_handshake_duration\"]/row[\"rtt\"], axis = 1)\n",
    "    tlsTimes[\"handshake/rtt\"] = tlsTimes.apply(addTLS, axis = 1)\n",
    "    httpsTimes[\"handshake/rtt\"] = httpsTimes.apply(addTLS, axis = 1)\n",
    "    \n",
    "    fig = plt.figure(figsize = (10, 7))\n",
    "    \n",
    "    distQUIC = filterNA(quicTimes)\n",
    "    distTCP = filterNA(tcpTimes)\n",
    "    distTLS = filterNA(tlsTimes)\n",
    "    distHTTPS = filterNA(httpsTimes)\n",
    "    \n",
    "    plt.plot(calculateCDF(distQUIC)[0], calculateCDF(distQUIC)[1], label=\"QUIC\", color = Colors.quic)\n",
    "    plt.plot(calculateCDF(distTCP)[0], calculateCDF(distTCP)[1], label=\"TCP\", color = Colors.tcp)\n",
    "    plt.plot(calculateCDF(distTLS)[0], calculateCDF(distTLS)[1], label=\"TLS\", color = Colors.tls)\n",
    "    plt.plot(calculateCDF(distHTTPS)[0], calculateCDF(distHTTPS)[1], label=\"HTTPS\", color = Colors.https)\n",
    "    \n",
    "    plt.xlim([0, 8])\n",
    "    plt.grid()\n",
    "    plt.legend()\n",
    "    plt.xlabel(\"Round-Trips\", fontsize = 12)\n",
    "    plt.ylabel(\"CDF\")\n",
    "    \n",
    "    plt.savefig(\"figures/merged_handshake-rtt.pdf\", bbox_inches='tight')\n",
    "    plt.show()\n",
    "    \n",
    "\n",
    "plotHandshake()"
   ]
  },
  {
   "cell_type": "code",
   "execution_count": null,
   "metadata": {},
   "outputs": [],
   "source": [
    "def getQLogPandas():\n",
    "    items = []\n",
    "    with open(\"qlog-results.json\", \"r\") as f:\n",
    "        result = json.load(f)\n",
    "    for ip, ports in result.items():\n",
    "        for port, stats in ports.items():\n",
    "            items.append({ \"ip\": ip, \"port\": int(port), \"success\": stats[\"success\"], \"retry\": stats[\"retry\"], \"version_negotiation\": stats[\"version_negotiation\"] })\n",
    "            \n",
    "    return pd.DataFrame(items)\n",
    "\n",
    "qlogResult = getQLogPandas()"
   ]
  },
  {
   "cell_type": "code",
   "execution_count": null,
   "metadata": {},
   "outputs": [],
   "source": [
    "quicTimes = getQUICMedianTraceroutes(protocol = \"quic\")"
   ]
  },
  {
   "cell_type": "code",
   "execution_count": null,
   "metadata": {},
   "outputs": [],
   "source": [
    "combined = pd.merge(quicTimes, qlogResult, on = [\"ip\", \"port\"])"
   ]
  },
  {
   "cell_type": "code",
   "execution_count": null,
   "metadata": {},
   "outputs": [],
   "source": [
    "def normalized(row):\n",
    "    duration = row[\"quic_handshake_duration\"]\n",
    "    if not row[\"success\"]:\n",
    "        return duration / row[\"rtt\"]\n",
    "    if row[\"retry\"]:\n",
    "        duration -= row[\"rtt\"]\n",
    "    if row[\"version_negotiation\"]:\n",
    "        duration -= row[\"rtt\"]\n",
    "    return duration / row[\"rtt\"]\n",
    "\n",
    "combined[\"handshake/rtt\"] = combined.apply(lambda row: row[\"quic_handshake_duration\"]/row[\"rtt\"], axis = 1)\n",
    "combined[\"n(handshake/rtt)\"] = combined.apply(normalized, axis = 1)"
   ]
  },
  {
   "cell_type": "code",
   "execution_count": null,
   "metadata": {},
   "outputs": [],
   "source": [
    "def plotHandshakeNormalized():\n",
    "    def normalized(row):\n",
    "        duration = row[\"quic_handshake_duration\"]\n",
    "        if not row[\"success\"]:\n",
    "            return duration / row[\"rtt\"]\n",
    "        if row[\"retry\"]:\n",
    "            duration -= row[\"rtt\"]\n",
    "        if row[\"version_negotiation\"]:\n",
    "            duration -= row[\"rtt\"]\n",
    "        return duration / row[\"rtt\"]\n",
    "    \n",
    "    def filterNA(df):\n",
    "        return df[df[\"handshake/rtt\"].notna()][\"handshake/rtt\"].tolist()\n",
    "    \n",
    "    def addTLS(row):\n",
    "        if row[\"tcp_handshake_duration\"] and row[\"tls_handshake_duration\"]:\n",
    "            return (row[\"tcp_handshake_duration\"] + row[\"tls_handshake_duration\"])/row[\"rtt\"]\n",
    "        return np.nan\n",
    "    \n",
    "    quicTimes = getQUICMedianTraceroutes(protocol = \"quic\")\n",
    "    combined = pd.merge(quicTimes, qlogResult, on = [\"ip\", \"port\"])\n",
    "    combined[\"n(handshake/rtt)\"] = combined.apply(normalized, axis = 1)\n",
    "    tcpTimes = getQUICMedianTraceroutes(protocol = \"tcp\")\n",
    "    tlsTimes = getQUICMedianTraceroutes(protocol = \"tls\")\n",
    "    httpsTimes = getQUICMedianTraceroutes(protocol = \"https\")\n",
    "    quicTimes[\"handshake/rtt\"] = quicTimes.apply(lambda row: row[\"quic_handshake_duration\"]/row[\"rtt\"], axis = 1)\n",
    "    tcpTimes[\"handshake/rtt\"] = tcpTimes.apply(lambda row: row[\"tcp_handshake_duration\"]/row[\"rtt\"], axis = 1)\n",
    "    tlsTimes[\"handshake/rtt\"] = tlsTimes.apply(addTLS, axis = 1)\n",
    "    httpsTimes[\"handshake/rtt\"] = httpsTimes.apply(addTLS, axis = 1)\n",
    "    \n",
    "    fig = plt.figure(figsize = (10, 7))\n",
    "    \n",
    "    distQUIC = combined[combined[\"n(handshake/rtt)\"].notna()][\"n(handshake/rtt)\"].tolist()\n",
    "    distTCP = filterNA(tcpTimes)\n",
    "    distTLS = filterNA(tlsTimes)\n",
    "    distHTTPS = filterNA(httpsTimes)\n",
    "    \n",
    "    plt.plot(calculateCDF(distQUIC)[0], calculateCDF(distQUIC)[1], label=\"QUIC\", color = Colors.quic)\n",
    "    plt.plot(calculateCDF(distTCP)[0], calculateCDF(distTCP)[1], label=\"TCP\", color = Colors.tcp)\n",
    "    plt.plot(calculateCDF(distTLS)[0], calculateCDF(distTLS)[1], label=\"TLS\", color = Colors.tls)\n",
    "    plt.plot(calculateCDF(distHTTPS)[0], calculateCDF(distHTTPS)[1], label=\"HTTPS\", color = Colors.https)\n",
    "    \n",
    "    plt.xlim([0, 8])\n",
    "    plt.grid()\n",
    "    plt.legend()\n",
    "    plt.xlabel(\"Round-Trips\", fontsize = 12)\n",
    "    plt.ylabel(\"CDF\")\n",
    "    \n",
    "    plt.savefig(\"figures/merged_handshake-rtt-normalized.pdf\", bbox_inches='tight')\n",
    "    plt.show()\n",
    "    \n",
    "\n",
    "plotHandshakeNormalized()"
   ]
  },
  {
   "cell_type": "code",
   "execution_count": null,
   "metadata": {},
   "outputs": [],
   "source": [
    "def normalized(row):\n",
    "    duration = row[\"quic_handshake_duration\"]\n",
    "    if not row[\"success\"]:\n",
    "        return duration / row[\"rtt\"]\n",
    "    if row[\"retry\"]:\n",
    "        duration -= row[\"rtt\"]\n",
    "    if row[\"version_negotiation\"]:\n",
    "        duration -= row[\"rtt\"]\n",
    "    return duration\n",
    "\n",
    "quicTimes = getQUICMedianTraceroutes(protocol = \"quic\")\n",
    "combined = pd.merge(quicTimes, qlogResult, on = [\"ip\", \"port\"])\n",
    "tcpTimes = getQUICMedianTraceroutes(protocol = \"tcp\")\n",
    "tlsTimes = getQUICMedianTraceroutes(protocol = \"tls\")\n",
    "httpsTimes = getQUICMedianTraceroutes(protocol = \"https\")\n",
    "udpTimes = getQUICMedianTraceroutes(protocol = \"udp\")"
   ]
  },
  {
   "cell_type": "code",
   "execution_count": null,
   "metadata": {},
   "outputs": [],
   "source": [
    "combined[\"n(handshake)\"] = combined.apply(normalized, axis = 1)\n",
    "combined[\"n(total_time)\"] = combined[\"total_time\"] - combined[\"n(handshake)\"]\n",
    "\n",
    "fig = plt.figure(figsize = (10, 7))\n",
    "\n",
    "distUDP = udpTimes[udpTimes[\"total_time\"].notna()][\"total_time\"].div(1000000).tolist()\n",
    "distQUIC = combined[combined[\"n(total_time)\"].notna()][\"n(total_time)\"].div(1000000).tolist()\n",
    "distTCP = tcpTimes[tcpTimes[\"total_time\"].notna()][\"total_time\"].div(1000000).tolist()\n",
    "distTLS = tlsTimes[tlsTimes[\"total_time\"].notna()][\"total_time\"].div(1000000).tolist()\n",
    "distHTTPS = httpsTimes[httpsTimes[\"total_time\"].notna()][\"total_time\"].div(1000000).tolist()\n",
    "\n",
    "plt.plot(calculateCDF(distQUIC)[0], calculateCDF(distQUIC)[1], label=\"QUIC\", color = Colors.quic)\n",
    "plt.plot(calculateCDF(distTCP)[0], calculateCDF(distTCP)[1], label=\"TCP\", color = Colors.tcp)\n",
    "plt.plot(calculateCDF(distTLS)[0], calculateCDF(distTLS)[1], label=\"TLS\", color = Colors.tls)\n",
    "plt.plot(calculateCDF(distHTTPS)[0], calculateCDF(distHTTPS)[1], label=\"HTTPS\", color = Colors.https)\n",
    "plt.plot(calculateCDF(distUDP)[0], calculateCDF(distUDP)[1], label=\"UDP\", color = Colors.udp)\n",
    "\n",
    "plt.grid()\n",
    "plt.legend()\n",
    "plt.xlabel(\"ms\", fontsize = 12)\n",
    "plt.ylabel(\"CDF\")\n",
    "plt.xlim([0, 1200])\n",
    "\n",
    "plt.savefig(\"figures/merged_total_time_normalized_cdf.pdf\", bbox_inches='tight')\n",
    "plt.show()"
   ]
  },
  {
   "cell_type": "code",
   "execution_count": null,
   "metadata": {},
   "outputs": [],
   "source": [
    "combined[\"n(handshake)\"] = combined.apply(normalized, axis = 1)\n",
    "combined[\"n(total_time)\"] = combined[\"total_time\"] - combined[\"n(handshake)\"]\n",
    "\n",
    "distQUIC = combined[combined[\"n(total_time)\"].notna()][\"n(total_time)\"].div(1000000).tolist()\n",
    "distTCP = tcpTimes[tcpTimes[\"total_time\"].notna()][\"total_time\"].div(1000000).tolist()\n",
    "distTLS = tlsTimes[tlsTimes[\"total_time\"].notna()][\"total_time\"].div(1000000).tolist()\n",
    "distHTTPS = httpsTimes[httpsTimes[\"total_time\"].notna()][\"total_time\"].div(1000000).tolist()\n",
    "distUDP = udpTimes[udpTimes[\"total_time\"].notna()][\"total_time\"].div(1000000).tolist()\n",
    "\n",
    "fig = plt.figure(figsize = (10, 7))\n",
    "ax = fig.add_subplot(111)\n",
    "bp = ax.boxplot([distUDP, distTCP, distTLS, distHTTPS, distQUIC], vert = 0, showfliers = False, patch_artist=True, meanline = True, showmeans = True)\n",
    "setBoxesWhite(bp)\n",
    "\n",
    "for median in bp[\"medians\"]:\n",
    "    x, y = median.get_data()\n",
    "    ax.text(x[0] - 20, y[0] - 0.2, \"{:.0f}\".format(x[0]), fontsize = 9, color='black')\n",
    "\n",
    "ax.set_yticklabels([\"UDP\", \"TCP\", \"TLS\", \"HTTPS\", \"QUIC\"])\n",
    "\n",
    "ax.set_xlabel(\"ms\", fontsize = 12)\n",
    "ax.set_ylabel(\"Protocol\", fontsize = 12)\n",
    "plt.grid()\n",
    "\n",
    "plt.savefig(\"figures/merged_total_time_normalized_boxplot.pdf\", bbox_inches='tight')\n",
    "plt.show(bp)"
   ]
  },
  {
   "cell_type": "markdown",
   "metadata": {},
   "source": [
    "## Smallest Variance"
   ]
  },
  {
   "cell_type": "code",
   "execution_count": null,
   "metadata": {},
   "outputs": [],
   "source": [
    "def getSetupTime():\n",
    "    def generateStatement(protocol):\n",
    "        return \"SELECT ip FROM dns_measurements {} WHERE {}.protocol = '{}' AND {}.response_ip IS NOT NULL AND NOT {}.cache_warming\".format(protocol, protocol, protocol, protocol, protocol)\n",
    "    statements = {\n",
    "        \"udp\": generateStatement(\"udp\"),\n",
    "        \"tcp\": generateStatement(\"tcp\"),\n",
    "        \"tls\": generateStatement(\"tls\"),\n",
    "        \"https\": generateStatement(\"https\"),\n",
    "        \"quic\": generateStatement(\"quic\")\n",
    "    }\n",
    "    sql = \"\"\"\n",
    "    SELECT ip, protocol, q_ui_c_handshake_duration / 1000000 as quic_handshake_duration, tcp_handshake_duration / 1000000 as tcp_handshake_duration, tls_handshake_duration / 1000000 as tls_handshake_duration, port FROM dns_measurements measurement\n",
    "    WHERE measurement.r_code IS NOT NULL AND measurement.total_time IS NOT NULL AND measurement.total_time <= 5000000000\n",
    "      AND NOT measurement.cache_warming\n",
    "      AND measurement.ip IN ({})\n",
    "      AND measurement.ip IN ({})\n",
    "      AND measurement.ip IN ({})\n",
    "      AND measurement.ip IN ({})\n",
    "      AND measurement.ip IN ({})\n",
    "    \"\"\".format(*statements.values())\n",
    "    df = pd.read_sql_query(sql, connection)\n",
    "    return df\n",
    "\n",
    "setupTime = getSetupTime()\n",
    "setupTime[\"tls_total\"] = setupTime.apply(lambda row: row[\"tcp_handshake_duration\"] + row[\"tls_handshake_duration\"] if row[\"protocol\"] == \"tls\" or row[\"protocol\"] == \"https\" else None, axis = 1)"
   ]
  },
  {
   "cell_type": "code",
   "execution_count": null,
   "metadata": {},
   "outputs": [],
   "source": [
    "smallestVar = setupTime.groupby(\"ip\")[\"quic_handshake_duration\"].var().reset_index(name = \"var\").nsmallest(50, \"var\")\n",
    "largestVar = setupTime.groupby(\"ip\")[\"quic_handshake_duration\"].var().reset_index(name = \"var\").nlargest(50, \"var\")"
   ]
  },
  {
   "cell_type": "code",
   "execution_count": null,
   "metadata": {},
   "outputs": [],
   "source": [
    "records = pd.DataFrame([*udp, *tcp, *tls, *https, *quic], columns = udp[0].keys())"
   ]
  },
  {
   "cell_type": "code",
   "execution_count": null,
   "metadata": {},
   "outputs": [],
   "source": [
    "smallestRecords = records[records[\"ip\"].isin(smallestVar[\"ip\"].unique())]\n",
    "smallestRecords[\"tls_total\"] = smallestRecords.apply(lambda row: row[\"tcp_handshake_duration\"] + row[\"tls_handshake_duration\"] if row[\"protocol\"] == \"tls\" or row[\"protocol\"] == \"https\" else None, axis = 1)\n",
    "largestRecords = records[records[\"ip\"].isin(largestVar[\"ip\"].unique())]\n",
    "largestRecords[\"tls_total\"] = largestRecords.apply(lambda row: row[\"tcp_handshake_duration\"] + row[\"tls_handshake_duration\"] if row[\"protocol\"] == \"tls\" or row[\"protocol\"] == \"https\" else None, axis = 1)"
   ]
  },
  {
   "cell_type": "code",
   "execution_count": null,
   "metadata": {},
   "outputs": [],
   "source": [
    "fig = plt.figure(figsize = (10, 7))\n",
    "tcpCDF = calculateCDF(smallestRecords[smallestRecords[\"protocol\"] == \"tcp\"][\"tcp_handshake_duration\"].div(1000000).tolist())\n",
    "tlsCDF = calculateCDF(smallestRecords[smallestRecords[\"protocol\"] == \"tls\"][\"tls_total\"].div(1000000).tolist())\n",
    "httpsCDF = calculateCDF(smallestRecords[smallestRecords[\"protocol\"] == \"https\"][\"tls_total\"].div(1000000).tolist())\n",
    "quicCDF = calculateCDF(smallestRecords[smallestRecords[\"protocol\"] == \"quic\"][\"q_ui_c_handshake_duration\"].div(1000000).tolist())\n",
    "\n",
    "plt.plot(tcpCDF[0], tcpCDF[1], label=\"TCP\", color = Colors.tcp)\n",
    "plt.plot(tlsCDF[0], tlsCDF[1], label=\"TLS\", color = Colors.tls)\n",
    "plt.plot(httpsCDF[0], httpsCDF[1], label=\"HTTPS\", color = Colors.https)\n",
    "plt.plot(quicCDF[0], quicCDF[1], label=\"QUIC\", color = Colors.quic)\n",
    "plt.xlim([0, 600])\n",
    "plt.ylim([0, 1.04])\n",
    "\n",
    "plt.xlabel(\"ms\", fontsize = 12)\n",
    "plt.ylabel(\"CDF\")\n",
    "\n",
    "plt.legend()\n",
    "plt.grid()\n",
    "\n",
    "plt.savefig(\"figures/merged_setup_time_low_variance_pdf.pdf\", bbox_inches='tight')\n",
    "\n",
    "plt.show()"
   ]
  },
  {
   "cell_type": "code",
   "execution_count": null,
   "metadata": {
    "scrolled": false
   },
   "outputs": [],
   "source": [
    "fig = plt.figure(figsize = (10, 7))\n",
    "tcpCDF = calculateCDF(largestRecords[largestRecords[\"protocol\"] == \"tcp\"][\"tcp_handshake_duration\"].div(1000000).tolist())\n",
    "tlsCDF = calculateCDF(largestRecords[largestRecords[\"protocol\"] == \"tls\"][\"tls_total\"].div(1000000).tolist())\n",
    "httpsCDF = calculateCDF(largestRecords[largestRecords[\"protocol\"] == \"https\"][\"tls_total\"].div(1000000).tolist())\n",
    "quicCDF = calculateCDF(largestRecords[largestRecords[\"protocol\"] == \"quic\"][\"q_ui_c_handshake_duration\"].div(1000000).tolist())\n",
    "\n",
    "plt.plot(tcpCDF[0], tcpCDF[1], label=\"TCP\", color = Colors.tcp)\n",
    "plt.plot(tlsCDF[0], tlsCDF[1], label=\"TLS\", color = Colors.tls)\n",
    "plt.plot(httpsCDF[0], httpsCDF[1], label=\"HTTPS\", color = Colors.https)\n",
    "plt.plot(quicCDF[0], quicCDF[1], label=\"QUIC\", color = Colors.quic)\n",
    "plt.xlim([0, 1200])\n",
    "plt.ylim([0, 1.04])\n",
    "\n",
    "plt.xlabel(\"ms\", fontsize = 12)\n",
    "plt.ylabel(\"CDF\")\n",
    "\n",
    "plt.legend()\n",
    "plt.grid()\n",
    "\n",
    "plt.savefig(\"figures/merged_setup_time_high_variance_pdf.pdf\", bbox_inches='tight')\n",
    "\n",
    "plt.show()"
   ]
  }
 ],
 "metadata": {
  "kernelspec": {
   "display_name": "Python 3",
   "language": "python",
   "name": "python3"
  },
  "language_info": {
   "codemirror_mode": {
    "name": "ipython",
    "version": 3
   },
   "file_extension": ".py",
   "mimetype": "text/x-python",
   "name": "python",
   "nbconvert_exporter": "python",
   "pygments_lexer": "ipython3",
   "version": "3.8.8"
  }
 },
 "nbformat": 4,
 "nbformat_minor": 4
}
