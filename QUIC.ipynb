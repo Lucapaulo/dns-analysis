{
 "cells": [
  {
   "cell_type": "code",
   "execution_count": 28,
   "id": "753dbe2f",
   "metadata": {},
   "outputs": [],
   "source": [
    "import numpy as np\n",
    "import sqlite3 as sq\n",
    "import matplotlib.pyplot as plt\n",
    "%matplotlib inline\n",
    "from matplotlib.ticker import FuncFormatter\n",
    "\n",
    "connection = sq.connect(\"./measurements.db\")\n",
    "connection.row_factory = sq.Row"
   ]
  },
  {
   "cell_type": "code",
   "execution_count": 13,
   "id": "7e0bb96f",
   "metadata": {},
   "outputs": [],
   "source": [
    "def serversSupportingQUIC():\n",
    "    sql = \"\"\"\n",
    "    SELECT DISTINCT(measurement.ip) FROM dns_measurements measurement\n",
    "    WHERE measurement.protocol = 'quic' AND measurement.r_code IS NOT NULL AND measurement.total_time IS NOT NULL;\n",
    "    \"\"\"\n",
    "    cursor = connection.cursor()\n",
    "    cursor.execute(sql)\n",
    "    items = list(cursor.fetchall())\n",
    "    cursor.close()\n",
    "    return items\n",
    "\n",
    "def quicServersSupporting(protocol):\n",
    "    sql = \"\"\"\n",
    "    SELECT DISTINCT(measurement.ip) FROM dns_measurements measurement\n",
    "    WHERE measurement.protocol = 'quic' AND measurement.r_code IS NOT NULL AND measurement.total_time IS NOT NULL\n",
    "      AND NOT measurement.cache_warming\n",
    "      AND measurement.ip IN (SELECT ip FROM dns_measurements quic WHERE quic.protocol = '{protocol}' AND quic.response_ip IS NOT NULL AND NOT quic.cache_warming);\n",
    "    \"\"\".format(protocol = protocol)\n",
    "    cursor = connection.cursor()\n",
    "    cursor.execute(sql)\n",
    "    items = list(cursor.fetchall())\n",
    "    cursor.close()\n",
    "    return items"
   ]
  },
  {
   "cell_type": "code",
   "execution_count": 18,
   "id": "8e77556c",
   "metadata": {},
   "outputs": [],
   "source": [
    "quicServers = serversSupportingQUIC()\n",
    "udpServers = quicServersSupporting(\"udp\")\n",
    "tcpServers = quicServersSupporting(\"tcp\")\n",
    "tlsServers = quicServersSupporting(\"tls\")\n",
    "httpsServers = quicServersSupporting(\"https\")"
   ]
  },
  {
   "cell_type": "code",
   "execution_count": 19,
   "id": "7129a5bb",
   "metadata": {},
   "outputs": [
    {
     "name": "stdout",
     "output_type": "stream",
     "text": [
      "343\n",
      "338\n",
      "653\n",
      "409\n"
     ]
    }
   ],
   "source": [
    "print(len(udpServers))\n",
    "print(len(tcpServers))\n",
    "print(len(tlsServers))\n",
    "print(len(httpsServers))"
   ]
  },
  {
   "cell_type": "code",
   "execution_count": 35,
   "id": "6be936f0",
   "metadata": {},
   "outputs": [
    {
     "data": {
      "image/png": "[encoded data removed]",
      "text/plain": [
       "<Figure size 720x504 with 1 Axes>"
      ]
     },
     "metadata": {
      "needs_background": "light"
     },
     "output_type": "display_data"
    }
   ],
   "source": [
    "fig = plt.figure(figsize = (10, 7))\n",
    "ax = fig.add_subplot(111)\n",
    "\n",
    "rects = plt.bar(\n",
    "    [\n",
    "        \"udp\",\n",
    "        \"tcp\",\n",
    "        \"tls\",\n",
    "        \"https\"\n",
    "    ], \n",
    "    [\n",
    "        len(udpServers)/len(quicServers) * 100, \n",
    "        len(tcpServers)/len(quicServers) * 100,\n",
    "        len(tlsServers)/len(quicServers) * 100,\n",
    "        len(httpsServers)/len(quicServers) * 100\n",
    "    ])\n",
    "\n",
    "formatter = FuncFormatter(lambda y, pos: \"%d%%\" % (y))\n",
    "ax.yaxis.set_major_formatter(formatter)\n",
    "\n",
    "for rect in rects:\n",
    "    height = rect.get_height()\n",
    "    ax.text(rect.get_x() + rect.get_width()/2., 1.01*height,\n",
    "            '%.1f' % height + \"%\", ha='center', va='bottom')\n",
    "\n",
    "plt.ylim([0, 100])\n",
    "plt.show()"
   ]
  }
 ],
 "metadata": {
  "kernelspec": {
   "display_name": "Python 3",
   "language": "python",
   "name": "python3"
  },
  "language_info": {
   "codemirror_mode": {
    "name": "ipython",
    "version": 3
   },
   "file_extension": ".py",
   "mimetype": "text/x-python",
   "name": "python",
   "nbconvert_exporter": "python",
   "pygments_lexer": "ipython3",
   "version": "3.8.5"
  }
 },
 "nbformat": 4,
 "nbformat_minor": 5
}
