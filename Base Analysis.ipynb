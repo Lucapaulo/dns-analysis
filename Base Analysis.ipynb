{
 "cells": [
  {
   "cell_type": "code",
   "execution_count": 2,
   "metadata": {},
   "outputs": [],
   "source": [
    "import numpy as np\n",
    "import sqlite3 as sq\n",
    "import matplotlib.pyplot as plt\n",
    "%matplotlib inline"
   ]
  },
  {
   "cell_type": "code",
   "execution_count": 3,
   "metadata": {},
   "outputs": [],
   "source": [
    "connection = sq.connect(\"./measurements-29-04.db\")\n",
    "def dict_factory(cursor, row):\n",
    "    d = {}\n",
    "    for idx, col in enumerate(cursor.description):\n",
    "        d[col[0]] = row[idx]\n",
    "    return d\n",
    "connection.row_factory = dict_factory"
   ]
  },
  {
   "cell_type": "code",
   "execution_count": 4,
   "metadata": {},
   "outputs": [],
   "source": [
    "def reject_outliers(data, m=2):\n",
    "    return data[abs(data - np.mean(data)) < m * np.std(data)]\n",
    "\n",
    "def normalizedRtt(items):\n",
    "    result = []\n",
    "    for data in items:\n",
    "        result.append(data[\"query_time\"]/data[\"rtt\"])\n",
    "    return result\n",
    "\n",
    "def calculateAverageQueryTime(items):\n",
    "    sum_num = 0\n",
    "    for data in items:\n",
    "        sum_num += data\n",
    "    return sum_num/len(items)"
   ]
  },
  {
   "cell_type": "code",
   "execution_count": 5,
   "metadata": {},
   "outputs": [
    {
     "name": "stdout",
     "output_type": "stream",
     "text": [
      "74 257.1419930999999\n"
     ]
    },
    {
     "data": {
      "image/png": "[encoded data removed]",
      "text/plain": [
       "<Figure size 432x288 with 1 Axes>"
      ]
     },
     "metadata": {
      "needs_background": "light"
     },
     "output_type": "display_data"
    }
   ],
   "source": [
    "cursor = connection.cursor()\n",
    "sql = \"SELECT * FROM dns_measurements WHERE protocol = 'udp' AND r_code = 0\"\n",
    "cursor.execute(sql)\n",
    "items = list(cursor.fetchall())\n",
    "withoutOutliers = reject_outliers(np.asarray(list(map(lambda x: x[\"total_time\"]/1000000, items))))\n",
    "print(len(items), calculateAverageQueryTime(withoutOutliers))\n",
    "plt.hist(withoutOutliers, density=True, bins=50)\n",
    "cursor.close()"
   ]
  },
  {
   "cell_type": "code",
   "execution_count": 6,
   "metadata": {},
   "outputs": [
    {
     "name": "stdout",
     "output_type": "stream",
     "text": [
      "75 317.8795691369863\n"
     ]
    },
    {
     "data": {
      "image/png": "[encoded data removed]",
      "text/plain": [
       "<Figure size 432x288 with 1 Axes>"
      ]
     },
     "metadata": {
      "needs_background": "light"
     },
     "output_type": "display_data"
    }
   ],
   "source": [
    "cursor = connection.cursor()\n",
    "sql = \"SELECT * FROM dns_measurements WHERE protocol = 'tcp' AND r_code = 0\"\n",
    "cursor.execute(sql)\n",
    "items = list(cursor.fetchall())\n",
    "withoutOutliers = reject_outliers(np.asarray(list(map(lambda x: x[\"total_time\"]/1000000, items))))\n",
    "print(len(items), calculateAverageQueryTime(withoutOutliers))\n",
    "plt.hist(withoutOutliers, density=True, bins=50)\n",
    "cursor.close()"
   ]
  },
  {
   "cell_type": "code",
   "execution_count": 7,
   "metadata": {},
   "outputs": [
    {
     "name": "stdout",
     "output_type": "stream",
     "text": [
      "113 589.3316127767856\n"
     ]
    },
    {
     "data": {
      "image/png": "[encoded data removed]",
      "text/plain": [
       "<Figure size 432x288 with 1 Axes>"
      ]
     },
     "metadata": {
      "needs_background": "light"
     },
     "output_type": "display_data"
    }
   ],
   "source": [
    "cursor = connection.cursor()\n",
    "sql = \"SELECT * FROM dns_measurements WHERE protocol = 'tls' AND r_code = 0\"\n",
    "cursor.execute(sql)\n",
    "items = list(cursor.fetchall())\n",
    "withoutOutliers = reject_outliers(np.asarray(list(map(lambda x: x[\"total_time\"]/1000000, items))))\n",
    "print(len(items), calculateAverageQueryTime(withoutOutliers))\n",
    "plt.hist(withoutOutliers, density=True, bins=50)\n",
    "cursor.close()"
   ]
  },
  {
   "cell_type": "code",
   "execution_count": 8,
   "metadata": {},
   "outputs": [
    {
     "name": "stdout",
     "output_type": "stream",
     "text": [
      "63 494.06973854838714\n"
     ]
    },
    {
     "data": {
      "image/png": "[encoded data removed]",
      "text/plain": [
       "<Figure size 432x288 with 1 Axes>"
      ]
     },
     "metadata": {
      "needs_background": "light"
     },
     "output_type": "display_data"
    }
   ],
   "source": [
    "cursor = connection.cursor()\n",
    "sql = \"SELECT * FROM dns_measurements WHERE protocol = 'https' AND r_code = 0\"\n",
    "cursor.execute(sql)\n",
    "items = list(cursor.fetchall())\n",
    "withoutOutliers = reject_outliers(np.asarray(list(map(lambda x: x[\"total_time\"]/1000000, items))))\n",
    "print(len(items), calculateAverageQueryTime(withoutOutliers))\n",
    "plt.hist(withoutOutliers, density=True, bins=50)\n",
    "cursor.close()"
   ]
  },
  {
   "cell_type": "code",
   "execution_count": 9,
   "metadata": {},
   "outputs": [
    {
     "name": "stdout",
     "output_type": "stream",
     "text": [
      "155 576.720931424836\n"
     ]
    },
    {
     "data": {
      "image/png": "[encoded data removed]",
      "text/plain": [
       "<Figure size 432x288 with 1 Axes>"
      ]
     },
     "metadata": {
      "needs_background": "light"
     },
     "output_type": "display_data"
    }
   ],
   "source": [
    "cursor = connection.cursor()\n",
    "sql = \"SELECT * FROM dns_measurements WHERE protocol = 'quic' AND r_code = 0\"\n",
    "cursor.execute(sql)\n",
    "items = list(cursor.fetchall())\n",
    "withoutOutliers = reject_outliers(np.asarray(list(map(lambda x: x[\"total_time\"]/1000000, items))))\n",
    "print(len(items), calculateAverageQueryTime(withoutOutliers))\n",
    "plt.hist(withoutOutliers, density=True, bins=50)\n",
    "cursor.close()"
   ]
  },
  {
   "cell_type": "markdown",
   "metadata": {},
   "source": [
    "# Error Analysis"
   ]
  },
  {
   "cell_type": "markdown",
   "metadata": {},
   "source": [
    "## UDP"
   ]
  },
  {
   "cell_type": "code",
   "execution_count": 69,
   "metadata": {},
   "outputs": [],
   "source": [
    "cursor = connection.cursor()\n",
    "sql = \"SELECT *, servers.rtt FROM measurements JOIN servers ON measurements.server_id=servers.ip WHERE protocol = 'udp' AND error IS NOT NULL\"\n",
    "cursor.execute(sql)\n",
    "items = list(cursor.fetchall())"
   ]
  },
  {
   "cell_type": "code",
   "execution_count": 77,
   "metadata": {},
   "outputs": [],
   "source": [
    "errors = map(lambda x: x[\"error\"] if \"error\" in x else None, items)"
   ]
  },
  {
   "cell_type": "markdown",
   "metadata": {},
   "source": [
    "## TCP"
   ]
  },
  {
   "cell_type": "code",
   "execution_count": 79,
   "metadata": {},
   "outputs": [],
   "source": [
    "cursor = connection.cursor()\n",
    "sql = \"SELECT *, servers.rtt FROM measurements JOIN servers ON measurements.server_id=servers.ip WHERE protocol = 'tcp' AND error IS NOT NULL\"\n",
    "cursor.execute(sql)\n",
    "items = list(cursor.fetchall())\n",
    "errors = map(lambda x: x[\"error\"] if \"error\" in x else None, items)"
   ]
  },
  {
   "cell_type": "code",
   "execution_count": 81,
   "metadata": {},
   "outputs": [
    {
     "name": "stdout",
     "output_type": "stream",
     "text": [
      "['dial tcp 180.76.76.76:53: i/o timeout', 'dial tcp 85.132.85.85:53: i/o timeout', 'dial tcp 62.212.154.152:53: i/o timeout', 'dial tcp 193.252.10.2:53: connectex: No connection could be made because the target machine actively refused it.', 'dial tcp 208.89.131.199:53: connectex: No connection could be made because the target machine actively refused it.', 'read tcp 192.168.178.67:56227->200.46.199.56:53: i/o timeout', 'read tcp 192.168.178.67:56276->190.108.85.3:53: i/o timeout', 'dial tcp 194.179.1.100:53: i/o timeout', 'dial tcp 200.119.192.58:53: connectex: No connection could be made because the target machine actively refused it.', 'read tcp 192.168.178.67:56318->69.24.197.9:53: wsarecv: An existing connection was forcibly closed by the remote host.', 'read tcp 192.168.178.67:56359->74.120.24.129:53: wsarecv: An existing connection was forcibly closed by the remote host.', 'read tcp 192.168.178.67:56374->74.120.24.81:53: i/o timeout', 'dial tcp 2.228.121.163:53: i/o timeout', 'read tcp 192.168.178.67:56424->217.12.181.97:53: i/o timeout', 'read tcp 192.168.178.67:56471->200.40.230.36:53: i/o timeout', 'read tcp 192.168.178.67:56480->200.40.255.100:53: i/o timeout', 'read tcp 192.168.178.67:56521->213.124.119.218:53: i/o timeout', 'dial tcp 91.229.232.57:53: i/o timeout', 'dial tcp 91.229.232.213:53: i/o timeout', 'dial tcp 91.229.232.81:53: i/o timeout', 'read tcp 192.168.178.67:56611->203.171.33.150:53: i/o timeout', 'dial tcp 79.161.49.34:53: i/o timeout', 'dial tcp 45.124.53.159:53: connectex: No connection could be made because the target machine actively refused it.', 'dial tcp 114.114.115.119:53: i/o timeout', 'dial tcp 85.93.217.105:53: i/o timeout', 'read tcp 192.168.178.67:56718->213.184.224.254:53: i/o timeout', 'read tcp 192.168.178.67:56737->62.169.90.150:53: i/o timeout', 'dial tcp 62.169.90.154:53: i/o timeout', 'dial tcp 78.130.38.222:53: i/o timeout', 'dial tcp 109.234.248.8:53: i/o timeout', 'dial tcp 177.184.131.54:53: i/o timeout', 'dial tcp 187.1.175.81:53: connectex: No connection could be made because the target machine actively refused it.', 'read tcp 192.168.178.67:57035->187.44.1.140:53: i/o timeout', 'dial tcp 200.159.205.12:53: connectex: No connection could be made because the target machine actively refused it.', 'dial tcp 200.172.90.4:53: connectex: No connection could be made because the target machine actively refused it.', 'EOF', 'dial tcp 109.233.144.52:53: i/o timeout', 'dial tcp 80.228.63.124:53: i/o timeout', 'dial tcp 96.31.223.110:53: i/o timeout', 'dial tcp 217.11.176.244:53: i/o timeout', 'dial tcp 103.142.212.235:53: connectex: No connection could be made because the target machine actively refused it.', 'dial tcp 80.72.49.57:53: i/o timeout', 'dial tcp 194.183.81.131:53: i/o timeout', 'read tcp 192.168.178.67:57231->59.148.250.34:53: i/o timeout', 'dial tcp 202.56.8.197:53: i/o timeout', 'read tcp 192.168.178.67:57326->202.134.72.177:53: i/o timeout', 'read tcp 192.168.178.67:57350->203.85.45.20:53: i/o timeout', 'dial tcp 203.85.45.24:53: connectex: No connection could be made because the target machine actively refused it.', 'read tcp 192.168.178.67:57369->203.85.45.26:53: i/o timeout', 'read tcp 192.168.178.67:57378->203.85.45.131:53: i/o timeout', 'dial tcp 203.198.186.71:53: i/o timeout', 'dial tcp 202.175.63.37:53: connectex: No connection could be made because the target machine actively refused it.', 'dial tcp 202.175.63.36:53: connectex: No connection could be made because the target machine actively refused it.', 'dial tcp 210.245.150.62:53: i/o timeout', 'dial tcp 202.175.47.234:53: i/o timeout', 'dial tcp 180.94.153.175:53: i/o timeout', 'dial tcp 91.208.144.50:53: connectex: No connection could be made because the target machine actively refused it.', 'dial tcp 82.211.133.135:53: i/o timeout', 'dial tcp 124.158.93.2:53: connectex: No connection could be made because the target machine actively refused it.', 'read tcp 192.168.178.67:57723->69.63.73.141:53: i/o timeout', 'dial tcp 169.239.120.6:53: connectex: No connection could be made because the target machine actively refused it.', 'dial tcp 169.255.153.58:53: i/o timeout', 'dial tcp 165.16.48.9:53: i/o timeout', 'dial tcp 164.160.147.21:53: connectex: No connection could be made because the target machine actively refused it.', 'dial tcp 1.0.0.3:53: i/o timeout', 'dial tcp 80.67.169.40:53: i/o timeout', 'dial tcp 194.38.104.124:53: i/o timeout', 'dial tcp 37.235.1.177:53: i/o timeout', 'dial tcp 82.209.228.234:53: i/o timeout', 'dial tcp 88.208.229.248:53: i/o timeout', 'read tcp 192.168.178.67:57979->109.228.14.101:53: i/o timeout', 'dial tcp 203.141.200.204:53: i/o timeout', 'dial tcp 216.52.254.1:53: i/o timeout', 'dial tcp 114.114.114.110:53: i/o timeout', 'dial tcp 114.114.115.110:53: i/o timeout', 'dial tcp 138.36.1.111:53: connectex: No connection could be made because the target machine actively refused it.', 'dial tcp 1.1.1.1:53: i/o timeout', 'dial tcp 87.23.196.161:53: i/o timeout', 'dial tcp 90.187.33.117:53: i/o timeout', 'dial tcp 85.175.46.122:53: connectex: No connection could be made because the target machine actively refused it.', 'dial tcp 92.223.65.32:53: i/o timeout', 'dial tcp 186.120.184.35:53: i/o timeout', 'dial tcp 80.67.169.12:53: i/o timeout', 'EOF', 'dial tcp 82.137.245.66:53: i/o timeout', 'dial tcp 137.59.155.14:53: connectex: No connection could be made because the target machine actively refused it.', 'dial tcp 138.0.207.117:53: i/o timeout', 'read tcp 192.168.178.67:62047->188.124.210.1:53: i/o timeout', 'dial tcp 189.125.73.13:53: i/o timeout', 'dial tcp 212.33.80.231:53: i/o timeout', 'dial tcp 217.182.198.203:53: i/o timeout', 'dial tcp 200.194.198.76:53: i/o timeout', 'read tcp 192.168.178.67:62285->200.10.231.190:53: wsarecv: An existing connection was forcibly closed by the remote host.', 'dial tcp 216.52.129.1:53: i/o timeout', 'read tcp 192.168.178.67:62339->189.90.241.10:53: wsarecv: An existing connection was forcibly closed by the remote host.', 'dial tcp 179.108.248.9:53: i/o timeout', 'dial tcp 179.228.67.140:53: i/o timeout', 'dial tcp 187.49.127.110:53: i/o timeout', 'dial tcp 200.222.51.209:53: i/o timeout', 'dial tcp 103.116.12.199:53: connectex: No connection could be made because the target machine actively refused it.', 'dial tcp 69.160.0.186:53: i/o timeout', 'dial tcp 65.18.117.236:53: i/o timeout', 'dial tcp 202.191.98.131:53: i/o timeout', 'dial tcp 103.215.176.29:53: i/o timeout', 'read tcp 192.168.178.67:58051->203.190.55.94:53: i/o timeout', 'read tcp 192.168.178.67:58093->160.202.41.130:53: i/o timeout', 'dial tcp 47.243.19.250:53: i/o timeout', 'dial tcp 190.151.20.146:53: i/o timeout', 'dial tcp 190.151.20.148:53: i/o timeout', 'dial tcp 194.224.52.37:53: i/o timeout', 'dial tcp 115.70.249.182:53: i/o timeout', 'dial tcp 151.196.0.37:53: i/o timeout', 'dial tcp 151.196.0.38:53: i/o timeout', 'dial tcp 114.114.115.115:53: i/o timeout', 'dial tcp 195.182.110.132:53: i/o timeout', 'dial tcp 206.124.1.254:53: i/o timeout', 'read tcp 192.168.178.67:58953->212.51.16.1:53: i/o timeout', 'read tcp 192.168.178.67:58956->212.51.17.1:53: i/o timeout', 'dial tcp 199.45.32.43:53: i/o timeout', 'dial tcp 65.39.139.53:53: i/o timeout', 'dial tcp 69.25.1.33:53: i/o timeout', 'dial tcp 72.11.150.74:53: i/o timeout', 'dial tcp 194.224.52.36:53: i/o timeout', 'dial tcp 85.132.32.42:53: i/o timeout', 'dial tcp 92.43.224.1:53: i/o timeout', 'dial tcp 194.224.52.4:53: i/o timeout', 'dial tcp 194.224.52.6:53: i/o timeout', 'dial tcp 66.216.18.222:53: i/o timeout', 'dial tcp 210.107.239.131:53: connectex: A connection attempt failed because the connected party did not properly respond after a period of time, or established connection failed because connected host has failed to respond.', 'read tcp 192.168.178.67:53614->69.16.170.11:53: i/o timeout', 'dial tcp 69.169.190.211:53: i/o timeout', 'dial tcp 83.143.8.249:53: i/o timeout', 'dial tcp 203.144.207.49:53: connectex: No connection could be made because the target machine actively refused it.', 'dial tcp 63.246.63.142:53: i/o timeout', 'dial tcp 216.138.97.246:53: i/o timeout', 'dial tcp 206.124.65.253:53: i/o timeout', 'read tcp 192.168.178.67:54115->201.222.50.30:53: i/o timeout', 'read tcp 192.168.178.67:54181->201.222.55.238:53: i/o timeout', 'read tcp 192.168.178.67:54195->103.216.144.6:53: i/o timeout', 'dial tcp 69.7.192.2:53: connectex: No connection could be made because the target machine actively refused it.', 'read tcp 192.168.178.67:54285->204.95.160.4:53: i/o timeout', 'dial tcp 216.254.141.13:53: connectex: No connection could be made because the target machine actively refused it.', 'read tcp 192.168.178.67:54308->193.138.78.117:53: i/o timeout', 'dial tcp 203.189.89.15:53: connectex: No connection could be made because the target machine actively refused it.', 'EOF', 'dial tcp 195.189.150.37:53: i/o timeout', 'dial tcp 193.109.160.177:53: connectex: No connection could be made because the target machine actively refused it.', 'dial tcp 195.252.95.208:53: i/o timeout', 'dial tcp 142.165.78.223:53: connectex: No connection could be made because the target machine actively refused it.', 'dial tcp 79.190.224.27:53: i/o timeout', 'read tcp 192.168.178.67:54504->213.234.9.198:53: i/o timeout', 'dial tcp 119.63.132.26:53: connectex: No connection could be made because the target machine actively refused it.', 'read tcp 192.168.178.67:54546->91.217.62.219:53: wsarecv: An existing connection was forcibly closed by the remote host.', 'dial tcp 210.118.170.15:53: i/o timeout', 'dial tcp 204.50.158.125:53: connectex: No connection could be made because the target machine actively refused it.', 'read tcp 192.168.178.67:54667->89.221.2.168:53: i/o timeout']\n"
     ]
    }
   ],
   "source": [
    "print(list(errors))"
   ]
  }
 ],
 "metadata": {
  "kernelspec": {
   "display_name": "Python 3",
   "language": "python",
   "name": "python3"
  },
  "language_info": {
   "codemirror_mode": {
    "name": "ipython",
    "version": 3
   },
   "file_extension": ".py",
   "mimetype": "text/x-python",
   "name": "python",
   "nbconvert_exporter": "python",
   "pygments_lexer": "ipython3",
   "version": "3.8.5"
  }
 },
 "nbformat": 4,
 "nbformat_minor": 4
}
